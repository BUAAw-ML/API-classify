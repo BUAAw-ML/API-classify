{
 "cells": [
  {
   "cell_type": "code",
   "execution_count": 1,
   "metadata": {},
   "outputs": [],
   "source": [
    "import numpy as np\n",
    "import pandas as pd\n",
    "from tqdm import tqdm\n",
    "\n",
    "from sklearn.feature_extraction.text import TfidfVectorizer\n",
    "from sklearn.linear_model import LogisticRegression\n",
    "from sklearn.model_selection import cross_val_score\n",
    "import sklearn.metrics as sm\n",
    "from scipy.sparse import hstack"
   ]
  },
  {
   "cell_type": "code",
   "execution_count": 2,
   "metadata": {},
   "outputs": [],
   "source": [
    "# class_names = ['toxic', 'severe_toxic', 'obscene', 'threat', 'insult', 'identity_hate']\n",
    "\n",
    "total = pd.read_csv('./data/newAPIs2.csv').fillna(' ')\n",
    "# test = pd.read_csv('../data/test.csv').fillna(' ')\n",
    "\n",
    "domain = pd.read_csv('./data/tagnet.csv')\n",
    "\n",
    "class_names = domain['source'].drop_duplicates().values\n",
    "\n",
    "test = total.sample(frac=0.2,axis=0,random_state=0)\n",
    "train = total[~total['id'].isin(test['id'].values)]\n",
    "\n",
    "\n",
    "train_text = train['descr']\n",
    "test_text = test['descr']\n",
    "all_text = pd.concat([train_text, test_text])"
   ]
  },
  {
   "cell_type": "code",
   "execution_count": null,
   "metadata": {},
   "outputs": [],
   "source": []
  },
  {
   "cell_type": "code",
   "execution_count": null,
   "metadata": {},
   "outputs": [
    {
     "name": "stderr",
     "output_type": "stream",
     "text": [
      " 73%|██████████████████████████████████████████████████████████▏                     | 343/472 [03:24<01:16,  1.68it/s]"
     ]
    }
   ],
   "source": [
    "labels = dict()\n",
    "for cla in tqdm(class_names):\n",
    "    clist = list()\n",
    "    for idx, row in train.iterrows():\n",
    "        if row['tags2'].find(cla) == -1:\n",
    "            clist.append(0)\n",
    "        else:\n",
    "            clist.append(1)\n",
    "    labels[cla] = clist\n"
   ]
  },
  {
   "cell_type": "code",
   "execution_count": null,
   "metadata": {},
   "outputs": [],
   "source": [
    "label2 = labels.copy()\n",
    "class_names2 = list(class_names) "
   ]
  },
  {
   "cell_type": "code",
   "execution_count": null,
   "metadata": {},
   "outputs": [],
   "source": [
    "key = list(labels.keys())\n",
    "for k in key:\n",
    "    if sum(labels[k]) < 100:\n",
    "        labels.pop(k)\n",
    "#         print(k)\n",
    "#         class_names2.remove(k)"
   ]
  },
  {
   "cell_type": "code",
   "execution_count": null,
   "metadata": {},
   "outputs": [],
   "source": [
    "class_names2 = list(labels.keys())\n",
    "len(class_names2)"
   ]
  },
  {
   "cell_type": "code",
   "execution_count": 3,
   "metadata": {},
   "outputs": [
    {
     "name": "stderr",
     "output_type": "stream",
     "text": [
      "c:\\users\\zyz\\appdata\\local\\programs\\python\\python36\\lib\\site-packages\\sklearn\\feature_extraction\\text.py:520: UserWarning: The parameter 'stop_words' will not be used since 'analyzer' != 'word'\n",
      "  warnings.warn(\"The parameter 'stop_words' will not be used\"\n"
     ]
    }
   ],
   "source": [
    "word_vectorizer = TfidfVectorizer(\n",
    "    sublinear_tf=True,\n",
    "    strip_accents='unicode',\n",
    "    analyzer='word',\n",
    "    token_pattern=r'\\w{1,}',\n",
    "    stop_words='english',\n",
    "    ngram_range=(1, 1),\n",
    "    max_features=10000)\n",
    "word_vectorizer.fit(all_text)\n",
    "train_word_features = word_vectorizer.transform(train_text)\n",
    "test_word_features = word_vectorizer.transform(test_text)\n",
    "\n",
    "\n",
    "\n",
    "char_vectorizer = TfidfVectorizer(\n",
    "    sublinear_tf=True,\n",
    "    strip_accents='unicode',\n",
    "    analyzer='char',\n",
    "    stop_words='english',\n",
    "    ngram_range=(2, 6),\n",
    "    max_features=50000)\n",
    "char_vectorizer.fit(all_text)\n",
    "train_char_features = char_vectorizer.transform(train_text)\n",
    "test_char_features = char_vectorizer.transform(test_text)\n",
    "\n",
    "train_features = hstack([train_char_features, train_word_features])\n",
    "test_features = hstack([test_char_features, test_word_features])"
   ]
  },
  {
   "cell_type": "code",
   "execution_count": 4,
   "metadata": {},
   "outputs": [
    {
     "data": {
      "text/plain": [
       "<10335x60000 sparse matrix of type '<class 'numpy.float64'>'\n",
       "\twith 14441400 stored elements in COOrdinate format>"
      ]
     },
     "execution_count": 4,
     "metadata": {},
     "output_type": "execute_result"
    }
   ],
   "source": [
    "train_features"
   ]
  },
  {
   "cell_type": "code",
   "execution_count": 61,
   "metadata": {},
   "outputs": [
    {
     "name": "stderr",
     "output_type": "stream",
     "text": [
      "\r",
      "  0%|                                                                                           | 0/97 [00:00<?, ?it/s]"
     ]
    },
    {
     "name": "stdout",
     "output_type": "stream",
     "text": [
      "CV score for class Mapping is 0.9631280919365904\n"
     ]
    },
    {
     "name": "stderr",
     "output_type": "stream",
     "text": [
      "\r",
      "  1%|▊                                                                                  | 1/97 [00:09<15:11,  9.50s/it]"
     ]
    },
    {
     "name": "stdout",
     "output_type": "stream",
     "text": [
      "CV score for class Other is 0.7532929400414771\n"
     ]
    },
    {
     "name": "stderr",
     "output_type": "stream",
     "text": [
      "\r",
      "  2%|█▋                                                                                 | 2/97 [00:19<15:20,  9.68s/it]"
     ]
    },
    {
     "name": "stdout",
     "output_type": "stream",
     "text": [
      "CV score for class Data is 0.8586120995563059\n"
     ]
    },
    {
     "name": "stderr",
     "output_type": "stream",
     "text": [
      "\r",
      "  3%|██▌                                                                                | 3/97 [00:28<14:57,  9.55s/it]"
     ]
    },
    {
     "name": "stdout",
     "output_type": "stream",
     "text": [
      "CV score for class Tools is 0.7916747115747592\n"
     ]
    },
    {
     "name": "stderr",
     "output_type": "stream",
     "text": [
      "\r",
      "  4%|███▍                                                                               | 4/97 [00:38<15:03,  9.72s/it]"
     ]
    },
    {
     "name": "stdout",
     "output_type": "stream",
     "text": [
      "CV score for class Design is 0.8715832140958685\n"
     ]
    },
    {
     "name": "stderr",
     "output_type": "stream",
     "text": [
      "\r",
      "  5%|████▎                                                                              | 5/97 [00:48<14:45,  9.63s/it]"
     ]
    },
    {
     "name": "stdout",
     "output_type": "stream",
     "text": [
      "CV score for class eCommerce is 0.9295901420850127\n"
     ]
    },
    {
     "name": "stderr",
     "output_type": "stream",
     "text": [
      "\r",
      "  6%|█████▏                                                                             | 6/97 [00:57<14:36,  9.63s/it]"
     ]
    },
    {
     "name": "stdout",
     "output_type": "stream",
     "text": [
      "CV score for class Authentication is 0.9379073109136743\n"
     ]
    },
    {
     "name": "stderr",
     "output_type": "stream",
     "text": [
      "\r",
      "  7%|█████▉                                                                             | 7/97 [01:07<14:24,  9.60s/it]"
     ]
    },
    {
     "name": "stdout",
     "output_type": "stream",
     "text": [
      "CV score for class Education is 0.9425055191424064\n"
     ]
    },
    {
     "name": "stderr",
     "output_type": "stream",
     "text": [
      "\r",
      "  8%|██████▊                                                                            | 8/97 [01:16<14:14,  9.60s/it]"
     ]
    },
    {
     "name": "stdout",
     "output_type": "stream",
     "text": [
      "CV score for class Games is 0.9637400491606757\n"
     ]
    },
    {
     "name": "stderr",
     "output_type": "stream",
     "text": [
      "\r",
      "  9%|███████▋                                                                           | 9/97 [01:25<13:54,  9.49s/it]"
     ]
    },
    {
     "name": "stdout",
     "output_type": "stream",
     "text": [
      "CV score for class Audio is 0.9644096992355312\n"
     ]
    },
    {
     "name": "stderr",
     "output_type": "stream",
     "text": [
      "\r",
      " 10%|████████▍                                                                         | 10/97 [01:34<13:45,  9.49s/it]"
     ]
    },
    {
     "name": "stdout",
     "output_type": "stream",
     "text": [
      "CV score for class Real Time is 0.8756807122540758\n"
     ]
    },
    {
     "name": "stderr",
     "output_type": "stream",
     "text": [
      "\r",
      " 11%|█████████▎                                                                        | 11/97 [01:45<13:41,  9.56s/it]"
     ]
    },
    {
     "name": "stdout",
     "output_type": "stream",
     "text": [
      "CV score for class Internet of Things is 0.9463129063822903\n"
     ]
    },
    {
     "name": "stderr",
     "output_type": "stream",
     "text": [
      "\r",
      " 12%|██████████▏                                                                       | 12/97 [01:55<13:37,  9.61s/it]"
     ]
    },
    {
     "name": "stdout",
     "output_type": "stream",
     "text": [
      "CV score for class Monitoring is 0.9263413354322445\n"
     ]
    },
    {
     "name": "stderr",
     "output_type": "stream",
     "text": [
      "\r",
      " 13%|██████████▉                                                                       | 13/97 [02:06<13:34,  9.70s/it]"
     ]
    },
    {
     "name": "stdout",
     "output_type": "stream",
     "text": [
      "CV score for class Video is 0.9672030378468296\n"
     ]
    },
    {
     "name": "stderr",
     "output_type": "stream",
     "text": [
      "\r",
      " 14%|███████████▊                                                                      | 14/97 [02:16<13:29,  9.76s/it]"
     ]
    },
    {
     "name": "stdout",
     "output_type": "stream",
     "text": [
      "CV score for class Recognition is 0.9721784145483058\n"
     ]
    },
    {
     "name": "stderr",
     "output_type": "stream",
     "text": [
      "\r",
      " 15%|████████████▋                                                                     | 15/97 [02:26<13:19,  9.76s/it]"
     ]
    },
    {
     "name": "stdout",
     "output_type": "stream",
     "text": [
      "CV score for class Images is 0.9626896599359934\n"
     ]
    },
    {
     "name": "stderr",
     "output_type": "stream",
     "text": [
      "\r",
      " 16%|█████████████▌                                                                    | 16/97 [02:35<13:09,  9.75s/it]"
     ]
    },
    {
     "name": "stdout",
     "output_type": "stream",
     "text": [
      "CV score for class Database is 0.8957000888167478\n"
     ]
    },
    {
     "name": "stderr",
     "output_type": "stream",
     "text": [
      "\r",
      " 18%|██████████████▎                                                                   | 17/97 [02:47<13:08,  9.86s/it]"
     ]
    },
    {
     "name": "stdout",
     "output_type": "stream",
     "text": [
      "CV score for class Shipping is 0.9817292052274386\n"
     ]
    },
    {
     "name": "stderr",
     "output_type": "stream",
     "text": [
      "\r",
      " 19%|███████████████▏                                                                  | 18/97 [02:58<13:05,  9.94s/it]"
     ]
    },
    {
     "name": "stdout",
     "output_type": "stream",
     "text": [
      "CV score for class Machine Learning is 0.9519972025087354\n"
     ]
    },
    {
     "name": "stderr",
     "output_type": "stream",
     "text": [
      "\r",
      " 20%|████████████████                                                                  | 19/97 [03:10<13:01, 10.02s/it]"
     ]
    },
    {
     "name": "stdout",
     "output_type": "stream",
     "text": [
      "CV score for class Natural Language Processing is 0.9773886100907675\n"
     ]
    },
    {
     "name": "stderr",
     "output_type": "stream",
     "text": [
      "\r",
      " 21%|████████████████▉                                                                 | 20/97 [03:21<12:56, 10.09s/it]"
     ]
    },
    {
     "name": "stdout",
     "output_type": "stream",
     "text": [
      "CV score for class Notifications is 0.9218685812005006\n"
     ]
    },
    {
     "name": "stderr",
     "output_type": "stream",
     "text": [
      "\r",
      " 22%|█████████████████▊                                                                | 21/97 [03:31<12:45, 10.08s/it]"
     ]
    },
    {
     "name": "stdout",
     "output_type": "stream",
     "text": [
      "CV score for class Cloud is 0.938501295111528\n"
     ]
    },
    {
     "name": "stderr",
     "output_type": "stream",
     "text": [
      "\r",
      " 23%|██████████████████▌                                                               | 22/97 [03:41<12:34, 10.07s/it]"
     ]
    },
    {
     "name": "stdout",
     "output_type": "stream",
     "text": [
      "CV score for class Location is 0.9327844819880218\n"
     ]
    },
    {
     "name": "stderr",
     "output_type": "stream",
     "text": [
      "\r",
      " 24%|███████████████████▍                                                              | 23/97 [03:53<12:30, 10.15s/it]"
     ]
    },
    {
     "name": "stdout",
     "output_type": "stream",
     "text": [
      "CV score for class Localization is 0.9134732934474364\n"
     ]
    },
    {
     "name": "stderr",
     "output_type": "stream",
     "text": [
      "\r",
      " 25%|████████████████████▎                                                             | 24/97 [04:05<12:25, 10.22s/it]"
     ]
    },
    {
     "name": "stdout",
     "output_type": "stream",
     "text": [
      "CV score for class Travel is 0.9569113015155991\n"
     ]
    },
    {
     "name": "stderr",
     "output_type": "stream",
     "text": [
      "\r",
      " 26%|█████████████████████▏                                                            | 25/97 [04:16<12:17, 10.24s/it]"
     ]
    },
    {
     "name": "stdout",
     "output_type": "stream",
     "text": [
      "CV score for class Entertainment is 0.8854491452898245\n"
     ]
    },
    {
     "name": "stderr",
     "output_type": "stream",
     "text": [
      "\r",
      " 27%|█████████████████████▉                                                            | 26/97 [04:27<12:10, 10.29s/it]"
     ]
    },
    {
     "name": "stdout",
     "output_type": "stream",
     "text": [
      "CV score for class Mobile is 0.898911283967978\n"
     ]
    },
    {
     "name": "stderr",
     "output_type": "stream",
     "text": [
      "\r",
      " 28%|██████████████████████▊                                                           | 27/97 [04:37<11:59, 10.27s/it]"
     ]
    },
    {
     "name": "stdout",
     "output_type": "stream",
     "text": [
      "CV score for class News Services is 0.9592228018121353\n"
     ]
    },
    {
     "name": "stderr",
     "output_type": "stream",
     "text": [
      "\r",
      " 29%|███████████████████████▋                                                          | 28/97 [04:48<11:49, 10.29s/it]"
     ]
    },
    {
     "name": "stdout",
     "output_type": "stream",
     "text": [
      "CV score for class File Sharing is 0.9292427613085691\n"
     ]
    },
    {
     "name": "stderr",
     "output_type": "stream",
     "text": [
      "\r",
      " 30%|████████████████████████▌                                                         | 29/97 [04:59<11:42, 10.33s/it]"
     ]
    },
    {
     "name": "stdout",
     "output_type": "stream",
     "text": [
      "CV score for class Health is 0.9618178793256432\n"
     ]
    },
    {
     "name": "stderr",
     "output_type": "stream",
     "text": [
      "\r",
      " 31%|█████████████████████████▎                                                        | 30/97 [05:10<11:34, 10.36s/it]"
     ]
    },
    {
     "name": "stdout",
     "output_type": "stream",
     "text": [
      "CV score for class Science is 0.9658190642856309\n"
     ]
    },
    {
     "name": "stderr",
     "output_type": "stream",
     "text": [
      "\r",
      " 32%|██████████████████████████▏                                                       | 31/97 [05:23<11:27, 10.42s/it]"
     ]
    },
    {
     "name": "stdout",
     "output_type": "stream",
     "text": [
      "CV score for class Photos is 0.9675365474066054\n"
     ]
    },
    {
     "name": "stderr",
     "output_type": "stream",
     "text": [
      "\r",
      " 33%|███████████████████████████                                                       | 32/97 [05:34<11:18, 10.44s/it]"
     ]
    },
    {
     "name": "stdout",
     "output_type": "stream",
     "text": [
      "CV score for class Application Development is 0.8323616167314674\n"
     ]
    },
    {
     "name": "stderr",
     "output_type": "stream",
     "text": [
      "\r",
      " 34%|███████████████████████████▉                                                      | 33/97 [05:45<11:10, 10.47s/it]"
     ]
    },
    {
     "name": "stdout",
     "output_type": "stream",
     "text": [
      "CV score for class Enterprise is 0.861347539971879\n"
     ]
    },
    {
     "name": "stderr",
     "output_type": "stream",
     "text": [
      "\r",
      " 35%|████████████████████████████▋                                                     | 34/97 [05:57<11:02, 10.52s/it]"
     ]
    },
    {
     "name": "stdout",
     "output_type": "stream",
     "text": [
      "CV score for class Events is 0.9496169352045337\n"
     ]
    },
    {
     "name": "stderr",
     "output_type": "stream",
     "text": [
      "\r",
      " 36%|█████████████████████████████▌                                                    | 35/97 [06:07<10:50, 10.50s/it]"
     ]
    },
    {
     "name": "stdout",
     "output_type": "stream",
     "text": [
      "CV score for class Marketing is 0.9398496507719964\n"
     ]
    },
    {
     "name": "stderr",
     "output_type": "stream",
     "text": [
      "\r",
      " 37%|██████████████████████████████▍                                                   | 36/97 [06:17<10:40, 10.50s/it]"
     ]
    },
    {
     "name": "stdout",
     "output_type": "stream",
     "text": [
      "CV score for class Project Management is 0.9500236794344906\n"
     ]
    },
    {
     "name": "stderr",
     "output_type": "stream",
     "text": [
      "\r",
      " 38%|███████████████████████████████▎                                                  | 37/97 [06:28<10:29, 10.50s/it]"
     ]
    },
    {
     "name": "stdout",
     "output_type": "stream",
     "text": [
      "CV score for class Customer Relationship Management is 0.9260255855123436\n"
     ]
    },
    {
     "name": "stderr",
     "output_type": "stream",
     "text": [
      "\r",
      " 39%|████████████████████████████████                                                  | 38/97 [06:39<10:20, 10.52s/it]"
     ]
    },
    {
     "name": "stdout",
     "output_type": "stream",
     "text": [
      "CV score for class Management is 0.8464025104793804\n"
     ]
    },
    {
     "name": "stderr",
     "output_type": "stream",
     "text": [
      "\r",
      " 40%|████████████████████████████████▉                                                 | 39/97 [06:51<10:11, 10.55s/it]"
     ]
    },
    {
     "name": "stdout",
     "output_type": "stream",
     "text": [
      "CV score for class Search is 0.9128935241329129\n"
     ]
    },
    {
     "name": "stderr",
     "output_type": "stream",
     "text": [
      "\r",
      " 41%|█████████████████████████████████▊                                                | 40/97 [07:01<10:01, 10.55s/it]"
     ]
    },
    {
     "name": "stdout",
     "output_type": "stream",
     "text": [
      "CV score for class Messaging is 0.9764708477817766\n"
     ]
    },
    {
     "name": "stderr",
     "output_type": "stream",
     "text": [
      "\r",
      " 42%|██████████████████████████████████▋                                               | 41/97 [07:12<09:50, 10.55s/it]"
     ]
    },
    {
     "name": "stdout",
     "output_type": "stream",
     "text": [
      "CV score for class Telephony is 0.9578367092002527\n"
     ]
    },
    {
     "name": "stderr",
     "output_type": "stream",
     "text": [
      "\r",
      " 43%|███████████████████████████████████▌                                              | 42/97 [07:23<09:41, 10.57s/it]"
     ]
    },
    {
     "name": "stdout",
     "output_type": "stream",
     "text": [
      "CV score for class Text is 0.9584935872593608\n"
     ]
    },
    {
     "name": "stderr",
     "output_type": "stream",
     "text": [
      "\r",
      " 44%|████████████████████████████████████▎                                             | 43/97 [07:32<09:28, 10.53s/it]"
     ]
    },
    {
     "name": "stdout",
     "output_type": "stream",
     "text": [
      "CV score for class Verification is 0.9642992948947775\n"
     ]
    },
    {
     "name": "stderr",
     "output_type": "stream",
     "text": [
      "\r",
      " 45%|█████████████████████████████████████▏                                            | 44/97 [07:43<09:18, 10.54s/it]"
     ]
    },
    {
     "name": "stdout",
     "output_type": "stream",
     "text": [
      "CV score for class Voice is 0.9748252092565238\n"
     ]
    },
    {
     "name": "stderr",
     "output_type": "stream",
     "text": [
      "\r",
      " 46%|██████████████████████████████████████                                            | 45/97 [07:54<09:08, 10.54s/it]"
     ]
    },
    {
     "name": "stdout",
     "output_type": "stream",
     "text": [
      "CV score for class Conversions is 0.9470929903703483\n"
     ]
    },
    {
     "name": "stderr",
     "output_type": "stream",
     "text": [
      "\r",
      " 47%|██████████████████████████████████████▉                                           | 46/97 [08:04<08:57, 10.54s/it]"
     ]
    },
    {
     "name": "stdout",
     "output_type": "stream",
     "text": [
      "CV score for class Social is 0.9071280179718969\n"
     ]
    },
    {
     "name": "stderr",
     "output_type": "stream",
     "text": [
      "\r",
      " 48%|███████████████████████████████████████▋                                          | 47/97 [08:14<08:46, 10.53s/it]"
     ]
    },
    {
     "name": "stdout",
     "output_type": "stream",
     "text": [
      "CV score for class Backend is 0.8771751191502822\n"
     ]
    },
    {
     "name": "stderr",
     "output_type": "stream",
     "text": [
      "\r",
      " 49%|████████████████████████████████████████▌                                         | 48/97 [08:25<08:35, 10.52s/it]"
     ]
    },
    {
     "name": "stdout",
     "output_type": "stream",
     "text": [
      "CV score for class Storage is 0.9764997579068141\n"
     ]
    },
    {
     "name": "stderr",
     "output_type": "stream",
     "text": [
      "\r",
      " 51%|█████████████████████████████████████████▍                                        | 49/97 [08:35<08:24, 10.51s/it]"
     ]
    },
    {
     "name": "stdout",
     "output_type": "stream",
     "text": [
      "CV score for class Collaboration is 0.9277687335658987\n"
     ]
    },
    {
     "name": "stderr",
     "output_type": "stream",
     "text": [
      "\r",
      " 52%|██████████████████████████████████████████▎                                       | 50/97 [08:45<08:14, 10.51s/it]"
     ]
    },
    {
     "name": "stdout",
     "output_type": "stream",
     "text": [
      "CV score for class Media is 0.8917800094249175\n"
     ]
    },
    {
     "name": "stderr",
     "output_type": "stream",
     "text": [
      "\r",
      " 53%|███████████████████████████████████████████                                       | 51/97 [08:55<08:03, 10.51s/it]"
     ]
    },
    {
     "name": "stdout",
     "output_type": "stream",
     "text": [
      "CV score for class Government is 0.9536466773632194\n"
     ]
    },
    {
     "name": "stderr",
     "output_type": "stream",
     "text": [
      "\r",
      " 54%|███████████████████████████████████████████▉                                      | 52/97 [09:05<07:52, 10.50s/it]"
     ]
    },
    {
     "name": "stdout",
     "output_type": "stream",
     "text": [
      "CV score for class Financial is 0.9451619698556337\n"
     ]
    },
    {
     "name": "stderr",
     "output_type": "stream",
     "text": [
      "\r",
      " 55%|████████████████████████████████████████████▊                                     | 53/97 [09:16<07:42, 10.51s/it]"
     ]
    },
    {
     "name": "stdout",
     "output_type": "stream",
     "text": [
      "CV score for class Currency is 0.9746125947906363\n"
     ]
    },
    {
     "name": "stderr",
     "output_type": "stream",
     "text": [
      "\r",
      " 56%|█████████████████████████████████████████████▋                                    | 54/97 [09:26<07:31, 10.50s/it]"
     ]
    },
    {
     "name": "stdout",
     "output_type": "stream",
     "text": [
      "CV score for class Security is 0.9039780109945027\n"
     ]
    },
    {
     "name": "stderr",
     "output_type": "stream",
     "text": [
      "\r",
      " 57%|██████████████████████████████████████████████▍                                   | 55/97 [09:37<07:20, 10.49s/it]"
     ]
    },
    {
     "name": "stdout",
     "output_type": "stream",
     "text": [
      "CV score for class Payments is 0.9716113615792845\n"
     ]
    },
    {
     "name": "stderr",
     "output_type": "stream",
     "text": [
      "\r",
      " 58%|███████████████████████████████████████████████▎                                  | 56/97 [09:47<07:10, 10.49s/it]"
     ]
    },
    {
     "name": "stdout",
     "output_type": "stream",
     "text": [
      "CV score for class Business is 0.8256584629589249\n"
     ]
    },
    {
     "name": "stderr",
     "output_type": "stream",
     "text": [
      "\r",
      " 59%|████████████████████████████████████████████████▏                                 | 57/97 [09:57<06:59, 10.48s/it]"
     ]
    },
    {
     "name": "stdout",
     "output_type": "stream",
     "text": [
      "CV score for class Email is 0.9715591254439055\n"
     ]
    },
    {
     "name": "stderr",
     "output_type": "stream",
     "text": [
      "\r",
      " 60%|█████████████████████████████████████████████████                                 | 58/97 [10:06<06:48, 10.46s/it]"
     ]
    },
    {
     "name": "stdout",
     "output_type": "stream",
     "text": [
      "CV score for class Web Site Management is 0.9098919038214645\n"
     ]
    },
    {
     "name": "stderr",
     "output_type": "stream",
     "text": [
      "\r",
      " 61%|█████████████████████████████████████████████████▉                                | 59/97 [10:17<06:37, 10.47s/it]"
     ]
    },
    {
     "name": "stdout",
     "output_type": "stream",
     "text": [
      "CV score for class Analytics is 0.9050048843481354\n"
     ]
    },
    {
     "name": "stderr",
     "output_type": "stream",
     "text": [
      "\r",
      " 62%|██████████████████████████████████████████████████▋                               | 60/97 [10:27<06:27, 10.46s/it]"
     ]
    },
    {
     "name": "stdout",
     "output_type": "stream",
     "text": [
      "CV score for class API is 0.7592553033028802\n"
     ]
    },
    {
     "name": "stderr",
     "output_type": "stream",
     "text": [
      "\r",
      " 63%|███████████████████████████████████████████████████▌                              | 61/97 [10:38<06:16, 10.46s/it]"
     ]
    },
    {
     "name": "stdout",
     "output_type": "stream",
     "text": [
      "CV score for class Applications is 0.8716798233807826\n"
     ]
    },
    {
     "name": "stderr",
     "output_type": "stream",
     "text": [
      "\r",
      " 64%|████████████████████████████████████████████████████▍                             | 62/97 [10:48<06:06, 10.46s/it]"
     ]
    },
    {
     "name": "stdout",
     "output_type": "stream",
     "text": [
      "CV score for class Big Data is 0.8604860164259821\n"
     ]
    },
    {
     "name": "stderr",
     "output_type": "stream",
     "text": [
      "\r",
      " 65%|█████████████████████████████████████████████████████▎                            | 63/97 [10:59<05:55, 10.47s/it]"
     ]
    },
    {
     "name": "stdout",
     "output_type": "stream",
     "text": [
      "CV score for class Content is 0.9051047122159656\n"
     ]
    },
    {
     "name": "stderr",
     "output_type": "stream",
     "text": [
      "\r",
      " 66%|██████████████████████████████████████████████████████                            | 64/97 [11:09<05:45, 10.46s/it]"
     ]
    },
    {
     "name": "stdout",
     "output_type": "stream",
     "text": [
      "CV score for class Hosting is 0.9556912043649444\n"
     ]
    },
    {
     "name": "stderr",
     "output_type": "stream",
     "text": [
      "\r",
      " 67%|██████████████████████████████████████████████████████▉                           | 65/97 [11:19<05:34, 10.45s/it]"
     ]
    },
    {
     "name": "stdout",
     "output_type": "stream",
     "text": [
      "CV score for class Music is 0.9721713276890709\n"
     ]
    },
    {
     "name": "stderr",
     "output_type": "stream",
     "text": [
      "\r",
      " 68%|███████████████████████████████████████████████████████▊                          | 66/97 [11:29<05:23, 10.44s/it]"
     ]
    },
    {
     "name": "stdout",
     "output_type": "stream",
     "text": [
      "CV score for class Recommendations is 0.9419796188445874\n"
     ]
    },
    {
     "name": "stderr",
     "output_type": "stream",
     "text": [
      "\r",
      " 69%|████████████████████████████████████████████████████████▋                         | 67/97 [11:39<05:13, 10.45s/it]"
     ]
    },
    {
     "name": "stdout",
     "output_type": "stream",
     "text": [
      "CV score for class Statistics is 0.9029767660553029\n"
     ]
    },
    {
     "name": "stderr",
     "output_type": "stream",
     "text": [
      "\r",
      " 70%|█████████████████████████████████████████████████████████▍                        | 68/97 [11:50<05:03, 10.45s/it]"
     ]
    },
    {
     "name": "stdout",
     "output_type": "stream",
     "text": [
      "CV score for class Streaming is 0.9562745062751068\n"
     ]
    },
    {
     "name": "stderr",
     "output_type": "stream",
     "text": [
      "\r",
      " 71%|██████████████████████████████████████████████████████████▎                       | 69/97 [12:00<04:52, 10.45s/it]"
     ]
    },
    {
     "name": "stdout",
     "output_type": "stream",
     "text": [
      "CV score for class Office is 0.8772218193941886\n"
     ]
    },
    {
     "name": "stderr",
     "output_type": "stream",
     "text": [
      "\r",
      " 72%|███████████████████████████████████████████████████████████▏                      | 70/97 [12:11<04:42, 10.46s/it]"
     ]
    },
    {
     "name": "stdout",
     "output_type": "stream",
     "text": [
      "CV score for class Domains is 0.9859577887746901\n"
     ]
    },
    {
     "name": "stderr",
     "output_type": "stream",
     "text": [
      "\r",
      " 73%|████████████████████████████████████████████████████████████                      | 71/97 [12:22<04:31, 10.45s/it]"
     ]
    },
    {
     "name": "stdout",
     "output_type": "stream",
     "text": [
      "CV score for class Booking is 0.9851620642181681\n"
     ]
    },
    {
     "name": "stderr",
     "output_type": "stream",
     "text": [
      "\r",
      " 74%|████████████████████████████████████████████████████████████▊                     | 72/97 [12:32<04:21, 10.45s/it]"
     ]
    },
    {
     "name": "stdout",
     "output_type": "stream",
     "text": [
      "CV score for class Transportation is 0.9499193042882986\n"
     ]
    },
    {
     "name": "stderr",
     "output_type": "stream",
     "text": [
      "\r",
      " 75%|█████████████████████████████████████████████████████████████▋                    | 73/97 [12:42<04:10, 10.45s/it]"
     ]
    },
    {
     "name": "stdout",
     "output_type": "stream",
     "text": [
      "CV score for class Banking is 0.9227168877401817\n"
     ]
    },
    {
     "name": "stderr",
     "output_type": "stream",
     "text": [
      "\r",
      " 76%|██████████████████████████████████████████████████████████████▌                   | 74/97 [12:53<04:00, 10.46s/it]"
     ]
    },
    {
     "name": "stdout",
     "output_type": "stream",
     "text": [
      "CV score for class Stocks is 0.9772241287138175\n"
     ]
    },
    {
     "name": "stderr",
     "output_type": "stream",
     "text": [
      "\r",
      " 77%|███████████████████████████████████████████████████████████████▍                  | 75/97 [13:03<03:49, 10.45s/it]"
     ]
    },
    {
     "name": "stdout",
     "output_type": "stream",
     "text": [
      "CV score for class Documents is 0.9490561565752946\n"
     ]
    },
    {
     "name": "stderr",
     "output_type": "stream",
     "text": [
      "\r",
      " 78%|████████████████████████████████████████████████████████████████▏                 | 76/97 [13:13<03:39, 10.44s/it]"
     ]
    },
    {
     "name": "stdout",
     "output_type": "stream",
     "text": [
      "CV score for class Bitcoin is 0.9973184851497362\n"
     ]
    },
    {
     "name": "stderr",
     "output_type": "stream",
     "text": [
      "\r",
      " 79%|█████████████████████████████████████████████████████████████████                 | 77/97 [13:23<03:28, 10.44s/it]"
     ]
    },
    {
     "name": "stdout",
     "output_type": "stream",
     "text": [
      "CV score for class Merchants is 0.929476928665624\n"
     ]
    },
    {
     "name": "stderr",
     "output_type": "stream",
     "text": [
      "\r",
      " 80%|█████████████████████████████████████████████████████████████████▉                | 78/97 [13:34<03:18, 10.44s/it]"
     ]
    },
    {
     "name": "stdout",
     "output_type": "stream",
     "text": [
      "CV score for class Sales is 0.8840014157113149\n"
     ]
    },
    {
     "name": "stderr",
     "output_type": "stream",
     "text": [
      "\r",
      " 81%|██████████████████████████████████████████████████████████████████▊               | 79/97 [13:44<03:07, 10.44s/it]"
     ]
    },
    {
     "name": "stdout",
     "output_type": "stream",
     "text": [
      "CV score for class Feeds is 0.9511125234944536\n"
     ]
    },
    {
     "name": "stderr",
     "output_type": "stream",
     "text": [
      "\r",
      " 82%|███████████████████████████████████████████████████████████████████▋              | 80/97 [13:56<02:57, 10.45s/it]"
     ]
    },
    {
     "name": "stdout",
     "output_type": "stream",
     "text": [
      "CV score for class Semantics is 0.957785464298564\n"
     ]
    },
    {
     "name": "stderr",
     "output_type": "stream",
     "text": [
      "\r",
      " 84%|████████████████████████████████████████████████████████████████████▍             | 81/97 [14:07<02:47, 10.46s/it]"
     ]
    },
    {
     "name": "stdout",
     "output_type": "stream",
     "text": [
      "CV score for class Credit Cards is 0.9822797526989158\n"
     ]
    },
    {
     "name": "stderr",
     "output_type": "stream",
     "text": [
      "\r",
      " 85%|█████████████████████████████████████████████████████████████████████▎            | 82/97 [14:17<02:36, 10.46s/it]"
     ]
    },
    {
     "name": "stdout",
     "output_type": "stream",
     "text": [
      "CV score for class Advertising is 0.92864545390964\n"
     ]
    },
    {
     "name": "stderr",
     "output_type": "stream",
     "text": [
      "\r",
      " 86%|██████████████████████████████████████████████████████████████████████▏           | 83/97 [14:29<02:26, 10.47s/it]"
     ]
    },
    {
     "name": "stdout",
     "output_type": "stream",
     "text": [
      "CV score for class Medical is 0.9642279155731042\n"
     ]
    },
    {
     "name": "stderr",
     "output_type": "stream",
     "text": [
      "\r",
      " 87%|███████████████████████████████████████████████████████████████████████           | 84/97 [14:39<02:16, 10.47s/it]"
     ]
    },
    {
     "name": "stdout",
     "output_type": "stream",
     "text": [
      "CV score for class Sports is 0.9614175413452486\n"
     ]
    },
    {
     "name": "stderr",
     "output_type": "stream",
     "text": [
      "\r",
      " 88%|███████████████████████████████████████████████████████████████████████▊          | 85/97 [14:49<02:05, 10.47s/it]"
     ]
    },
    {
     "name": "stdout",
     "output_type": "stream",
     "text": [
      "CV score for class Addresses is 0.9600126951975047\n"
     ]
    },
    {
     "name": "stderr",
     "output_type": "stream",
     "text": [
      "\r",
      " 89%|████████████████████████████████████████████████████████████████████████▋         | 86/97 [14:59<01:55, 10.46s/it]"
     ]
    },
    {
     "name": "stdout",
     "output_type": "stream",
     "text": [
      "CV score for class Weather is 0.981405659085186\n"
     ]
    },
    {
     "name": "stderr",
     "output_type": "stream",
     "text": [
      "\r",
      " 90%|█████████████████████████████████████████████████████████████████████████▌        | 87/97 [15:09<01:44, 10.46s/it]"
     ]
    },
    {
     "name": "stdout",
     "output_type": "stream",
     "text": [
      "CV score for class Food is 0.9190950984499371\n"
     ]
    },
    {
     "name": "stderr",
     "output_type": "stream",
     "text": [
      "\r",
      " 91%|██████████████████████████████████████████████████████████████████████████▍       | 88/97 [15:20<01:34, 10.46s/it]"
     ]
    },
    {
     "name": "stdout",
     "output_type": "stream",
     "text": [
      "CV score for class Reference is 0.8855639529715166\n"
     ]
    },
    {
     "name": "stderr",
     "output_type": "stream",
     "text": [
      "\r",
      " 92%|███████████████████████████████████████████████████████████████████████████▏      | 89/97 [15:33<01:23, 10.49s/it]"
     ]
    },
    {
     "name": "stdout",
     "output_type": "stream",
     "text": [
      "CV score for class England is 0.8815202668745462\n"
     ]
    },
    {
     "name": "stderr",
     "output_type": "stream",
     "text": [
      "\r",
      " 93%|████████████████████████████████████████████████████████████████████████████      | 90/97 [15:43<01:13, 10.49s/it]"
     ]
    },
    {
     "name": "stdout",
     "output_type": "stream",
     "text": [
      "CV score for class Time is 0.8902459910353039\n"
     ]
    },
    {
     "name": "stderr",
     "output_type": "stream",
     "text": [
      "\r",
      " 94%|████████████████████████████████████████████████████████████████████████████▉     | 91/97 [15:53<01:02, 10.48s/it]"
     ]
    },
    {
     "name": "stdout",
     "output_type": "stream",
     "text": [
      "CV score for class Jobs is 0.936823616451357\n"
     ]
    },
    {
     "name": "stderr",
     "output_type": "stream",
     "text": [
      "\r",
      " 95%|█████████████████████████████████████████████████████████████████████████████▊    | 92/97 [16:03<00:52, 10.48s/it]"
     ]
    },
    {
     "name": "stdout",
     "output_type": "stream",
     "text": [
      "CV score for class Chat is 0.976170260971847\n"
     ]
    },
    {
     "name": "stderr",
     "output_type": "stream",
     "text": [
      "\r",
      " 96%|██████████████████████████████████████████████████████████████████████████████▌   | 93/97 [16:13<00:41, 10.47s/it]"
     ]
    },
    {
     "name": "stdout",
     "output_type": "stream",
     "text": [
      "CV score for class Blogging is 0.9602991894070607\n"
     ]
    },
    {
     "name": "stderr",
     "output_type": "stream",
     "text": [
      "\r",
      " 97%|███████████████████████████████████████████████████████████████████████████████▍  | 94/97 [16:23<00:31, 10.46s/it]"
     ]
    },
    {
     "name": "stdout",
     "output_type": "stream",
     "text": [
      "CV score for class Auto is 0.8514970767351727\n"
     ]
    },
    {
     "name": "stderr",
     "output_type": "stream",
     "text": [
      "\r",
      " 98%|████████████████████████████████████████████████████████████████████████████████▎ | 95/97 [16:33<00:20, 10.45s/it]"
     ]
    },
    {
     "name": "stdout",
     "output_type": "stream",
     "text": [
      "CV score for class Language is 0.9601633049332001\n"
     ]
    },
    {
     "name": "stderr",
     "output_type": "stream",
     "text": [
      "\r",
      " 99%|█████████████████████████████████████████████████████████████████████████████████▏| 96/97 [16:42<00:10, 10.44s/it]"
     ]
    },
    {
     "name": "stdout",
     "output_type": "stream",
     "text": [
      "CV score for class Translation is 0.9841853375458739\n"
     ]
    },
    {
     "name": "stderr",
     "output_type": "stream",
     "text": [
      "100%|██████████████████████████████████████████████████████████████████████████████████| 97/97 [16:51<00:00, 10.43s/it]\n"
     ]
    }
   ],
   "source": [
    "scores = []\n",
    "submission = pd.DataFrame.from_dict({'id': test['id']})\n",
    "for class_name in tqdm(class_names2):\n",
    "    train_target = labels[class_name]\n",
    "    classifier = LogisticRegression(C=0.1, solver='sag')\n",
    "\n",
    "    cv_score = np.mean(cross_val_score(classifier, train_features, train_target, cv=3, scoring='roc_auc'))\n",
    "    scores.append(cv_score)\n",
    "    print('CV score for class {} is {}'.format(class_name, cv_score))\n",
    "\n",
    "    classifier.fit(train_features, train_target)\n",
    "    submission[class_name] = classifier.predict_proba(test_features)[:, 1]"
   ]
  },
  {
   "cell_type": "code",
   "execution_count": 62,
   "metadata": {},
   "outputs": [
    {
     "data": {
      "text/html": [
       "<div>\n",
       "<style scoped>\n",
       "    .dataframe tbody tr th:only-of-type {\n",
       "        vertical-align: middle;\n",
       "    }\n",
       "\n",
       "    .dataframe tbody tr th {\n",
       "        vertical-align: top;\n",
       "    }\n",
       "\n",
       "    .dataframe thead th {\n",
       "        text-align: right;\n",
       "    }\n",
       "</style>\n",
       "<table border=\"1\" class=\"dataframe\">\n",
       "  <thead>\n",
       "    <tr style=\"text-align: right;\">\n",
       "      <th></th>\n",
       "      <th>id</th>\n",
       "      <th>Mapping</th>\n",
       "      <th>Other</th>\n",
       "      <th>Data</th>\n",
       "      <th>Tools</th>\n",
       "      <th>Design</th>\n",
       "      <th>eCommerce</th>\n",
       "      <th>Authentication</th>\n",
       "      <th>Education</th>\n",
       "      <th>Games</th>\n",
       "      <th>...</th>\n",
       "      <th>Food</th>\n",
       "      <th>Reference</th>\n",
       "      <th>England</th>\n",
       "      <th>Time</th>\n",
       "      <th>Jobs</th>\n",
       "      <th>Chat</th>\n",
       "      <th>Blogging</th>\n",
       "      <th>Auto</th>\n",
       "      <th>Language</th>\n",
       "      <th>Translation</th>\n",
       "    </tr>\n",
       "  </thead>\n",
       "  <tbody>\n",
       "    <tr>\n",
       "      <th>12648</th>\n",
       "      <td>12648</td>\n",
       "      <td>0.059502</td>\n",
       "      <td>0.016300</td>\n",
       "      <td>0.069075</td>\n",
       "      <td>0.184158</td>\n",
       "      <td>0.010389</td>\n",
       "      <td>0.040255</td>\n",
       "      <td>0.011137</td>\n",
       "      <td>0.020989</td>\n",
       "      <td>0.019257</td>\n",
       "      <td>...</td>\n",
       "      <td>0.009184</td>\n",
       "      <td>0.024092</td>\n",
       "      <td>0.013664</td>\n",
       "      <td>0.068783</td>\n",
       "      <td>0.010350</td>\n",
       "      <td>0.012917</td>\n",
       "      <td>0.011517</td>\n",
       "      <td>0.014190</td>\n",
       "      <td>0.020858</td>\n",
       "      <td>0.010894</td>\n",
       "    </tr>\n",
       "    <tr>\n",
       "      <th>7431</th>\n",
       "      <td>7431</td>\n",
       "      <td>0.043236</td>\n",
       "      <td>0.012561</td>\n",
       "      <td>0.099321</td>\n",
       "      <td>0.092043</td>\n",
       "      <td>0.009730</td>\n",
       "      <td>0.054804</td>\n",
       "      <td>0.011015</td>\n",
       "      <td>0.023659</td>\n",
       "      <td>0.023198</td>\n",
       "      <td>...</td>\n",
       "      <td>0.010060</td>\n",
       "      <td>0.044418</td>\n",
       "      <td>0.014443</td>\n",
       "      <td>0.025039</td>\n",
       "      <td>0.009756</td>\n",
       "      <td>0.009785</td>\n",
       "      <td>0.011265</td>\n",
       "      <td>0.017856</td>\n",
       "      <td>0.021026</td>\n",
       "      <td>0.008876</td>\n",
       "    </tr>\n",
       "    <tr>\n",
       "      <th>7707</th>\n",
       "      <td>7707</td>\n",
       "      <td>0.045695</td>\n",
       "      <td>0.015220</td>\n",
       "      <td>0.072321</td>\n",
       "      <td>0.212006</td>\n",
       "      <td>0.012010</td>\n",
       "      <td>0.041631</td>\n",
       "      <td>0.011339</td>\n",
       "      <td>0.024081</td>\n",
       "      <td>0.019779</td>\n",
       "      <td>...</td>\n",
       "      <td>0.009700</td>\n",
       "      <td>0.034563</td>\n",
       "      <td>0.014028</td>\n",
       "      <td>0.021239</td>\n",
       "      <td>0.009491</td>\n",
       "      <td>0.020062</td>\n",
       "      <td>0.013947</td>\n",
       "      <td>0.015876</td>\n",
       "      <td>0.027506</td>\n",
       "      <td>0.009500</td>\n",
       "    </tr>\n",
       "    <tr>\n",
       "      <th>3028</th>\n",
       "      <td>3028</td>\n",
       "      <td>0.039052</td>\n",
       "      <td>0.012363</td>\n",
       "      <td>0.181918</td>\n",
       "      <td>0.041233</td>\n",
       "      <td>0.008606</td>\n",
       "      <td>0.056111</td>\n",
       "      <td>0.009688</td>\n",
       "      <td>0.021292</td>\n",
       "      <td>0.068832</td>\n",
       "      <td>...</td>\n",
       "      <td>0.009558</td>\n",
       "      <td>0.041040</td>\n",
       "      <td>0.016065</td>\n",
       "      <td>0.039505</td>\n",
       "      <td>0.009902</td>\n",
       "      <td>0.010315</td>\n",
       "      <td>0.010090</td>\n",
       "      <td>0.021476</td>\n",
       "      <td>0.016918</td>\n",
       "      <td>0.008120</td>\n",
       "    </tr>\n",
       "    <tr>\n",
       "      <th>3130</th>\n",
       "      <td>3130</td>\n",
       "      <td>0.044174</td>\n",
       "      <td>0.014767</td>\n",
       "      <td>0.065899</td>\n",
       "      <td>0.079825</td>\n",
       "      <td>0.010228</td>\n",
       "      <td>0.078384</td>\n",
       "      <td>0.012327</td>\n",
       "      <td>0.021850</td>\n",
       "      <td>0.019878</td>\n",
       "      <td>...</td>\n",
       "      <td>0.010541</td>\n",
       "      <td>0.034765</td>\n",
       "      <td>0.014030</td>\n",
       "      <td>0.023662</td>\n",
       "      <td>0.010546</td>\n",
       "      <td>0.010133</td>\n",
       "      <td>0.010483</td>\n",
       "      <td>0.018398</td>\n",
       "      <td>0.020043</td>\n",
       "      <td>0.009998</td>\n",
       "    </tr>\n",
       "    <tr>\n",
       "      <th>8544</th>\n",
       "      <td>8544</td>\n",
       "      <td>0.057848</td>\n",
       "      <td>0.015260</td>\n",
       "      <td>0.207436</td>\n",
       "      <td>0.081906</td>\n",
       "      <td>0.010276</td>\n",
       "      <td>0.107057</td>\n",
       "      <td>0.011117</td>\n",
       "      <td>0.027027</td>\n",
       "      <td>0.021142</td>\n",
       "      <td>...</td>\n",
       "      <td>0.012621</td>\n",
       "      <td>0.105966</td>\n",
       "      <td>0.018663</td>\n",
       "      <td>0.020650</td>\n",
       "      <td>0.009479</td>\n",
       "      <td>0.009626</td>\n",
       "      <td>0.011008</td>\n",
       "      <td>0.018625</td>\n",
       "      <td>0.017722</td>\n",
       "      <td>0.008505</td>\n",
       "    </tr>\n",
       "    <tr>\n",
       "      <th>10118</th>\n",
       "      <td>10118</td>\n",
       "      <td>0.042728</td>\n",
       "      <td>0.014360</td>\n",
       "      <td>0.082552</td>\n",
       "      <td>0.134707</td>\n",
       "      <td>0.010507</td>\n",
       "      <td>0.046576</td>\n",
       "      <td>0.012218</td>\n",
       "      <td>0.028602</td>\n",
       "      <td>0.021358</td>\n",
       "      <td>...</td>\n",
       "      <td>0.010588</td>\n",
       "      <td>0.056406</td>\n",
       "      <td>0.015187</td>\n",
       "      <td>0.019918</td>\n",
       "      <td>0.010334</td>\n",
       "      <td>0.009952</td>\n",
       "      <td>0.012094</td>\n",
       "      <td>0.015939</td>\n",
       "      <td>0.023266</td>\n",
       "      <td>0.009544</td>\n",
       "    </tr>\n",
       "    <tr>\n",
       "      <th>9102</th>\n",
       "      <td>9102</td>\n",
       "      <td>0.040676</td>\n",
       "      <td>0.013522</td>\n",
       "      <td>0.109495</td>\n",
       "      <td>0.061912</td>\n",
       "      <td>0.010939</td>\n",
       "      <td>0.110587</td>\n",
       "      <td>0.010455</td>\n",
       "      <td>0.023828</td>\n",
       "      <td>0.019467</td>\n",
       "      <td>...</td>\n",
       "      <td>0.010069</td>\n",
       "      <td>0.048789</td>\n",
       "      <td>0.017624</td>\n",
       "      <td>0.023877</td>\n",
       "      <td>0.009535</td>\n",
       "      <td>0.010882</td>\n",
       "      <td>0.011468</td>\n",
       "      <td>0.020430</td>\n",
       "      <td>0.019241</td>\n",
       "      <td>0.008671</td>\n",
       "    </tr>\n",
       "    <tr>\n",
       "      <th>5040</th>\n",
       "      <td>5040</td>\n",
       "      <td>0.045315</td>\n",
       "      <td>0.016867</td>\n",
       "      <td>0.089092</td>\n",
       "      <td>0.152474</td>\n",
       "      <td>0.011858</td>\n",
       "      <td>0.042891</td>\n",
       "      <td>0.012122</td>\n",
       "      <td>0.024121</td>\n",
       "      <td>0.019690</td>\n",
       "      <td>...</td>\n",
       "      <td>0.009232</td>\n",
       "      <td>0.031391</td>\n",
       "      <td>0.012978</td>\n",
       "      <td>0.020915</td>\n",
       "      <td>0.009430</td>\n",
       "      <td>0.012078</td>\n",
       "      <td>0.013444</td>\n",
       "      <td>0.017971</td>\n",
       "      <td>0.032514</td>\n",
       "      <td>0.010745</td>\n",
       "    </tr>\n",
       "    <tr>\n",
       "      <th>296</th>\n",
       "      <td>296</td>\n",
       "      <td>0.037780</td>\n",
       "      <td>0.013869</td>\n",
       "      <td>0.108852</td>\n",
       "      <td>0.093276</td>\n",
       "      <td>0.010625</td>\n",
       "      <td>0.052787</td>\n",
       "      <td>0.019808</td>\n",
       "      <td>0.023031</td>\n",
       "      <td>0.020817</td>\n",
       "      <td>...</td>\n",
       "      <td>0.008940</td>\n",
       "      <td>0.026124</td>\n",
       "      <td>0.012333</td>\n",
       "      <td>0.021877</td>\n",
       "      <td>0.010346</td>\n",
       "      <td>0.011770</td>\n",
       "      <td>0.011097</td>\n",
       "      <td>0.017063</td>\n",
       "      <td>0.019753</td>\n",
       "      <td>0.008916</td>\n",
       "    </tr>\n",
       "    <tr>\n",
       "      <th>2087</th>\n",
       "      <td>2087</td>\n",
       "      <td>0.040160</td>\n",
       "      <td>0.013025</td>\n",
       "      <td>0.084920</td>\n",
       "      <td>0.076795</td>\n",
       "      <td>0.010644</td>\n",
       "      <td>0.049546</td>\n",
       "      <td>0.012542</td>\n",
       "      <td>0.025167</td>\n",
       "      <td>0.023653</td>\n",
       "      <td>...</td>\n",
       "      <td>0.009558</td>\n",
       "      <td>0.035010</td>\n",
       "      <td>0.013761</td>\n",
       "      <td>0.022092</td>\n",
       "      <td>0.010478</td>\n",
       "      <td>0.011430</td>\n",
       "      <td>0.012443</td>\n",
       "      <td>0.020108</td>\n",
       "      <td>0.020787</td>\n",
       "      <td>0.009025</td>\n",
       "    </tr>\n",
       "    <tr>\n",
       "      <th>7948</th>\n",
       "      <td>7948</td>\n",
       "      <td>0.046080</td>\n",
       "      <td>0.011979</td>\n",
       "      <td>0.078820</td>\n",
       "      <td>0.082267</td>\n",
       "      <td>0.009548</td>\n",
       "      <td>0.099876</td>\n",
       "      <td>0.016656</td>\n",
       "      <td>0.018549</td>\n",
       "      <td>0.016655</td>\n",
       "      <td>...</td>\n",
       "      <td>0.009906</td>\n",
       "      <td>0.024904</td>\n",
       "      <td>0.013804</td>\n",
       "      <td>0.023812</td>\n",
       "      <td>0.009843</td>\n",
       "      <td>0.011033</td>\n",
       "      <td>0.010564</td>\n",
       "      <td>0.018697</td>\n",
       "      <td>0.021091</td>\n",
       "      <td>0.008834</td>\n",
       "    </tr>\n",
       "    <tr>\n",
       "      <th>499</th>\n",
       "      <td>499</td>\n",
       "      <td>0.035984</td>\n",
       "      <td>0.013838</td>\n",
       "      <td>0.059632</td>\n",
       "      <td>0.052883</td>\n",
       "      <td>0.008469</td>\n",
       "      <td>0.063083</td>\n",
       "      <td>0.012130</td>\n",
       "      <td>0.018869</td>\n",
       "      <td>0.016270</td>\n",
       "      <td>...</td>\n",
       "      <td>0.009138</td>\n",
       "      <td>0.026145</td>\n",
       "      <td>0.014270</td>\n",
       "      <td>0.020854</td>\n",
       "      <td>0.009159</td>\n",
       "      <td>0.015468</td>\n",
       "      <td>0.010382</td>\n",
       "      <td>0.016109</td>\n",
       "      <td>0.016476</td>\n",
       "      <td>0.008114</td>\n",
       "    </tr>\n",
       "    <tr>\n",
       "      <th>5260</th>\n",
       "      <td>5260</td>\n",
       "      <td>0.040078</td>\n",
       "      <td>0.013890</td>\n",
       "      <td>0.083034</td>\n",
       "      <td>0.187701</td>\n",
       "      <td>0.011363</td>\n",
       "      <td>0.032021</td>\n",
       "      <td>0.010454</td>\n",
       "      <td>0.026904</td>\n",
       "      <td>0.018382</td>\n",
       "      <td>...</td>\n",
       "      <td>0.009259</td>\n",
       "      <td>0.032790</td>\n",
       "      <td>0.013628</td>\n",
       "      <td>0.020417</td>\n",
       "      <td>0.009627</td>\n",
       "      <td>0.010767</td>\n",
       "      <td>0.011276</td>\n",
       "      <td>0.015027</td>\n",
       "      <td>0.022877</td>\n",
       "      <td>0.009706</td>\n",
       "    </tr>\n",
       "    <tr>\n",
       "      <th>7767</th>\n",
       "      <td>7767</td>\n",
       "      <td>0.041014</td>\n",
       "      <td>0.013520</td>\n",
       "      <td>0.085250</td>\n",
       "      <td>0.081411</td>\n",
       "      <td>0.009950</td>\n",
       "      <td>0.118920</td>\n",
       "      <td>0.012290</td>\n",
       "      <td>0.024708</td>\n",
       "      <td>0.019151</td>\n",
       "      <td>...</td>\n",
       "      <td>0.010108</td>\n",
       "      <td>0.038859</td>\n",
       "      <td>0.015408</td>\n",
       "      <td>0.020958</td>\n",
       "      <td>0.010655</td>\n",
       "      <td>0.010874</td>\n",
       "      <td>0.010866</td>\n",
       "      <td>0.018505</td>\n",
       "      <td>0.022296</td>\n",
       "      <td>0.009445</td>\n",
       "    </tr>\n",
       "    <tr>\n",
       "      <th>2272</th>\n",
       "      <td>2272</td>\n",
       "      <td>0.041030</td>\n",
       "      <td>0.013562</td>\n",
       "      <td>0.130323</td>\n",
       "      <td>0.110742</td>\n",
       "      <td>0.009995</td>\n",
       "      <td>0.050892</td>\n",
       "      <td>0.011799</td>\n",
       "      <td>0.023209</td>\n",
       "      <td>0.021252</td>\n",
       "      <td>...</td>\n",
       "      <td>0.009574</td>\n",
       "      <td>0.038307</td>\n",
       "      <td>0.013382</td>\n",
       "      <td>0.028248</td>\n",
       "      <td>0.010028</td>\n",
       "      <td>0.011128</td>\n",
       "      <td>0.010990</td>\n",
       "      <td>0.019930</td>\n",
       "      <td>0.030651</td>\n",
       "      <td>0.009603</td>\n",
       "    </tr>\n",
       "    <tr>\n",
       "      <th>11322</th>\n",
       "      <td>11322</td>\n",
       "      <td>0.034987</td>\n",
       "      <td>0.014621</td>\n",
       "      <td>0.051255</td>\n",
       "      <td>0.121183</td>\n",
       "      <td>0.010053</td>\n",
       "      <td>0.053369</td>\n",
       "      <td>0.011743</td>\n",
       "      <td>0.022836</td>\n",
       "      <td>0.016882</td>\n",
       "      <td>...</td>\n",
       "      <td>0.008879</td>\n",
       "      <td>0.030088</td>\n",
       "      <td>0.014887</td>\n",
       "      <td>0.024582</td>\n",
       "      <td>0.010422</td>\n",
       "      <td>0.012590</td>\n",
       "      <td>0.011198</td>\n",
       "      <td>0.019403</td>\n",
       "      <td>0.018774</td>\n",
       "      <td>0.008955</td>\n",
       "    </tr>\n",
       "    <tr>\n",
       "      <th>8413</th>\n",
       "      <td>8413</td>\n",
       "      <td>0.057518</td>\n",
       "      <td>0.013447</td>\n",
       "      <td>0.077831</td>\n",
       "      <td>0.074875</td>\n",
       "      <td>0.009308</td>\n",
       "      <td>0.073652</td>\n",
       "      <td>0.012200</td>\n",
       "      <td>0.024147</td>\n",
       "      <td>0.016453</td>\n",
       "      <td>...</td>\n",
       "      <td>0.010060</td>\n",
       "      <td>0.057130</td>\n",
       "      <td>0.018934</td>\n",
       "      <td>0.031333</td>\n",
       "      <td>0.009339</td>\n",
       "      <td>0.010684</td>\n",
       "      <td>0.010782</td>\n",
       "      <td>0.015395</td>\n",
       "      <td>0.020370</td>\n",
       "      <td>0.009182</td>\n",
       "    </tr>\n",
       "    <tr>\n",
       "      <th>3567</th>\n",
       "      <td>3567</td>\n",
       "      <td>0.036671</td>\n",
       "      <td>0.013632</td>\n",
       "      <td>0.067277</td>\n",
       "      <td>0.093429</td>\n",
       "      <td>0.009396</td>\n",
       "      <td>0.081479</td>\n",
       "      <td>0.011645</td>\n",
       "      <td>0.024693</td>\n",
       "      <td>0.017683</td>\n",
       "      <td>...</td>\n",
       "      <td>0.009370</td>\n",
       "      <td>0.042089</td>\n",
       "      <td>0.014597</td>\n",
       "      <td>0.032327</td>\n",
       "      <td>0.010204</td>\n",
       "      <td>0.011881</td>\n",
       "      <td>0.012443</td>\n",
       "      <td>0.017150</td>\n",
       "      <td>0.027552</td>\n",
       "      <td>0.010751</td>\n",
       "    </tr>\n",
       "    <tr>\n",
       "      <th>4657</th>\n",
       "      <td>4657</td>\n",
       "      <td>0.047175</td>\n",
       "      <td>0.014086</td>\n",
       "      <td>0.071941</td>\n",
       "      <td>0.104689</td>\n",
       "      <td>0.009816</td>\n",
       "      <td>0.054526</td>\n",
       "      <td>0.012477</td>\n",
       "      <td>0.022694</td>\n",
       "      <td>0.021436</td>\n",
       "      <td>...</td>\n",
       "      <td>0.009441</td>\n",
       "      <td>0.052582</td>\n",
       "      <td>0.015617</td>\n",
       "      <td>0.024578</td>\n",
       "      <td>0.009293</td>\n",
       "      <td>0.011690</td>\n",
       "      <td>0.011833</td>\n",
       "      <td>0.019634</td>\n",
       "      <td>0.021297</td>\n",
       "      <td>0.009110</td>\n",
       "    </tr>\n",
       "    <tr>\n",
       "      <th>2799</th>\n",
       "      <td>2799</td>\n",
       "      <td>0.097741</td>\n",
       "      <td>0.014325</td>\n",
       "      <td>0.167964</td>\n",
       "      <td>0.066224</td>\n",
       "      <td>0.009907</td>\n",
       "      <td>0.078886</td>\n",
       "      <td>0.010644</td>\n",
       "      <td>0.025724</td>\n",
       "      <td>0.023420</td>\n",
       "      <td>...</td>\n",
       "      <td>0.015002</td>\n",
       "      <td>0.072877</td>\n",
       "      <td>0.016608</td>\n",
       "      <td>0.023554</td>\n",
       "      <td>0.011474</td>\n",
       "      <td>0.009452</td>\n",
       "      <td>0.011819</td>\n",
       "      <td>0.017884</td>\n",
       "      <td>0.020431</td>\n",
       "      <td>0.008808</td>\n",
       "    </tr>\n",
       "    <tr>\n",
       "      <th>11304</th>\n",
       "      <td>11304</td>\n",
       "      <td>0.040805</td>\n",
       "      <td>0.015867</td>\n",
       "      <td>0.060673</td>\n",
       "      <td>0.121972</td>\n",
       "      <td>0.010448</td>\n",
       "      <td>0.051476</td>\n",
       "      <td>0.013853</td>\n",
       "      <td>0.022793</td>\n",
       "      <td>0.019331</td>\n",
       "      <td>...</td>\n",
       "      <td>0.009856</td>\n",
       "      <td>0.032476</td>\n",
       "      <td>0.013984</td>\n",
       "      <td>0.022800</td>\n",
       "      <td>0.010967</td>\n",
       "      <td>0.011547</td>\n",
       "      <td>0.011211</td>\n",
       "      <td>0.022866</td>\n",
       "      <td>0.020261</td>\n",
       "      <td>0.009211</td>\n",
       "    </tr>\n",
       "    <tr>\n",
       "      <th>10852</th>\n",
       "      <td>10852</td>\n",
       "      <td>0.055494</td>\n",
       "      <td>0.013488</td>\n",
       "      <td>0.058074</td>\n",
       "      <td>0.123342</td>\n",
       "      <td>0.011103</td>\n",
       "      <td>0.043812</td>\n",
       "      <td>0.011564</td>\n",
       "      <td>0.024387</td>\n",
       "      <td>0.018824</td>\n",
       "      <td>...</td>\n",
       "      <td>0.009822</td>\n",
       "      <td>0.047954</td>\n",
       "      <td>0.015662</td>\n",
       "      <td>0.019490</td>\n",
       "      <td>0.010218</td>\n",
       "      <td>0.009721</td>\n",
       "      <td>0.011410</td>\n",
       "      <td>0.015753</td>\n",
       "      <td>0.021375</td>\n",
       "      <td>0.009779</td>\n",
       "    </tr>\n",
       "    <tr>\n",
       "      <th>1236</th>\n",
       "      <td>1236</td>\n",
       "      <td>0.035076</td>\n",
       "      <td>0.013066</td>\n",
       "      <td>0.089958</td>\n",
       "      <td>0.128288</td>\n",
       "      <td>0.010066</td>\n",
       "      <td>0.057291</td>\n",
       "      <td>0.011407</td>\n",
       "      <td>0.022534</td>\n",
       "      <td>0.019533</td>\n",
       "      <td>...</td>\n",
       "      <td>0.010158</td>\n",
       "      <td>0.031065</td>\n",
       "      <td>0.012155</td>\n",
       "      <td>0.023106</td>\n",
       "      <td>0.009766</td>\n",
       "      <td>0.013691</td>\n",
       "      <td>0.011660</td>\n",
       "      <td>0.016746</td>\n",
       "      <td>0.077208</td>\n",
       "      <td>0.013801</td>\n",
       "    </tr>\n",
       "    <tr>\n",
       "      <th>6948</th>\n",
       "      <td>6948</td>\n",
       "      <td>0.053122</td>\n",
       "      <td>0.014242</td>\n",
       "      <td>0.378838</td>\n",
       "      <td>0.055086</td>\n",
       "      <td>0.009362</td>\n",
       "      <td>0.121402</td>\n",
       "      <td>0.009699</td>\n",
       "      <td>0.029887</td>\n",
       "      <td>0.020013</td>\n",
       "      <td>...</td>\n",
       "      <td>0.013213</td>\n",
       "      <td>0.099259</td>\n",
       "      <td>0.016908</td>\n",
       "      <td>0.022656</td>\n",
       "      <td>0.010361</td>\n",
       "      <td>0.008338</td>\n",
       "      <td>0.011077</td>\n",
       "      <td>0.017158</td>\n",
       "      <td>0.019491</td>\n",
       "      <td>0.008899</td>\n",
       "    </tr>\n",
       "    <tr>\n",
       "      <th>9418</th>\n",
       "      <td>9418</td>\n",
       "      <td>0.039304</td>\n",
       "      <td>0.013087</td>\n",
       "      <td>0.096044</td>\n",
       "      <td>0.053053</td>\n",
       "      <td>0.009060</td>\n",
       "      <td>0.070535</td>\n",
       "      <td>0.012439</td>\n",
       "      <td>0.029471</td>\n",
       "      <td>0.017002</td>\n",
       "      <td>...</td>\n",
       "      <td>0.010063</td>\n",
       "      <td>0.062675</td>\n",
       "      <td>0.018063</td>\n",
       "      <td>0.020164</td>\n",
       "      <td>0.010604</td>\n",
       "      <td>0.010955</td>\n",
       "      <td>0.010005</td>\n",
       "      <td>0.019623</td>\n",
       "      <td>0.017721</td>\n",
       "      <td>0.009025</td>\n",
       "    </tr>\n",
       "    <tr>\n",
       "      <th>7133</th>\n",
       "      <td>7133</td>\n",
       "      <td>0.039999</td>\n",
       "      <td>0.015174</td>\n",
       "      <td>0.117159</td>\n",
       "      <td>0.059754</td>\n",
       "      <td>0.009748</td>\n",
       "      <td>0.038184</td>\n",
       "      <td>0.011306</td>\n",
       "      <td>0.024440</td>\n",
       "      <td>0.025099</td>\n",
       "      <td>...</td>\n",
       "      <td>0.009598</td>\n",
       "      <td>0.042381</td>\n",
       "      <td>0.014919</td>\n",
       "      <td>0.022656</td>\n",
       "      <td>0.009688</td>\n",
       "      <td>0.012686</td>\n",
       "      <td>0.012493</td>\n",
       "      <td>0.017705</td>\n",
       "      <td>0.019424</td>\n",
       "      <td>0.008768</td>\n",
       "    </tr>\n",
       "    <tr>\n",
       "      <th>11219</th>\n",
       "      <td>11219</td>\n",
       "      <td>0.087024</td>\n",
       "      <td>0.013305</td>\n",
       "      <td>0.127174</td>\n",
       "      <td>0.074754</td>\n",
       "      <td>0.009181</td>\n",
       "      <td>0.053238</td>\n",
       "      <td>0.010778</td>\n",
       "      <td>0.027297</td>\n",
       "      <td>0.023956</td>\n",
       "      <td>...</td>\n",
       "      <td>0.011575</td>\n",
       "      <td>0.076477</td>\n",
       "      <td>0.016736</td>\n",
       "      <td>0.039150</td>\n",
       "      <td>0.010126</td>\n",
       "      <td>0.009565</td>\n",
       "      <td>0.011823</td>\n",
       "      <td>0.017557</td>\n",
       "      <td>0.021302</td>\n",
       "      <td>0.009237</td>\n",
       "    </tr>\n",
       "    <tr>\n",
       "      <th>8763</th>\n",
       "      <td>8763</td>\n",
       "      <td>0.057453</td>\n",
       "      <td>0.014836</td>\n",
       "      <td>0.097895</td>\n",
       "      <td>0.081589</td>\n",
       "      <td>0.009605</td>\n",
       "      <td>0.049832</td>\n",
       "      <td>0.010790</td>\n",
       "      <td>0.027201</td>\n",
       "      <td>0.019411</td>\n",
       "      <td>...</td>\n",
       "      <td>0.010571</td>\n",
       "      <td>0.072006</td>\n",
       "      <td>0.016628</td>\n",
       "      <td>0.019762</td>\n",
       "      <td>0.010475</td>\n",
       "      <td>0.009418</td>\n",
       "      <td>0.011731</td>\n",
       "      <td>0.017971</td>\n",
       "      <td>0.021627</td>\n",
       "      <td>0.009516</td>\n",
       "    </tr>\n",
       "    <tr>\n",
       "      <th>343</th>\n",
       "      <td>343</td>\n",
       "      <td>0.053833</td>\n",
       "      <td>0.014037</td>\n",
       "      <td>0.103902</td>\n",
       "      <td>0.081540</td>\n",
       "      <td>0.010179</td>\n",
       "      <td>0.054370</td>\n",
       "      <td>0.010951</td>\n",
       "      <td>0.029603</td>\n",
       "      <td>0.025323</td>\n",
       "      <td>...</td>\n",
       "      <td>0.011111</td>\n",
       "      <td>0.054617</td>\n",
       "      <td>0.015434</td>\n",
       "      <td>0.023659</td>\n",
       "      <td>0.010225</td>\n",
       "      <td>0.009461</td>\n",
       "      <td>0.011929</td>\n",
       "      <td>0.019452</td>\n",
       "      <td>0.027544</td>\n",
       "      <td>0.009516</td>\n",
       "    </tr>\n",
       "    <tr>\n",
       "      <th>...</th>\n",
       "      <td>...</td>\n",
       "      <td>...</td>\n",
       "      <td>...</td>\n",
       "      <td>...</td>\n",
       "      <td>...</td>\n",
       "      <td>...</td>\n",
       "      <td>...</td>\n",
       "      <td>...</td>\n",
       "      <td>...</td>\n",
       "      <td>...</td>\n",
       "      <td>...</td>\n",
       "      <td>...</td>\n",
       "      <td>...</td>\n",
       "      <td>...</td>\n",
       "      <td>...</td>\n",
       "      <td>...</td>\n",
       "      <td>...</td>\n",
       "      <td>...</td>\n",
       "      <td>...</td>\n",
       "      <td>...</td>\n",
       "      <td>...</td>\n",
       "    </tr>\n",
       "    <tr>\n",
       "      <th>6756</th>\n",
       "      <td>6756</td>\n",
       "      <td>0.036744</td>\n",
       "      <td>0.013479</td>\n",
       "      <td>0.061549</td>\n",
       "      <td>0.060311</td>\n",
       "      <td>0.010126</td>\n",
       "      <td>0.133021</td>\n",
       "      <td>0.016899</td>\n",
       "      <td>0.024237</td>\n",
       "      <td>0.021116</td>\n",
       "      <td>...</td>\n",
       "      <td>0.009552</td>\n",
       "      <td>0.028748</td>\n",
       "      <td>0.014110</td>\n",
       "      <td>0.024144</td>\n",
       "      <td>0.010034</td>\n",
       "      <td>0.011136</td>\n",
       "      <td>0.010823</td>\n",
       "      <td>0.017634</td>\n",
       "      <td>0.017066</td>\n",
       "      <td>0.008841</td>\n",
       "    </tr>\n",
       "    <tr>\n",
       "      <th>5611</th>\n",
       "      <td>5611</td>\n",
       "      <td>0.050195</td>\n",
       "      <td>0.011651</td>\n",
       "      <td>0.131168</td>\n",
       "      <td>0.048138</td>\n",
       "      <td>0.008510</td>\n",
       "      <td>0.081677</td>\n",
       "      <td>0.013081</td>\n",
       "      <td>0.025145</td>\n",
       "      <td>0.016616</td>\n",
       "      <td>...</td>\n",
       "      <td>0.009871</td>\n",
       "      <td>0.069605</td>\n",
       "      <td>0.018290</td>\n",
       "      <td>0.020599</td>\n",
       "      <td>0.010738</td>\n",
       "      <td>0.009046</td>\n",
       "      <td>0.009670</td>\n",
       "      <td>0.015423</td>\n",
       "      <td>0.024091</td>\n",
       "      <td>0.010762</td>\n",
       "    </tr>\n",
       "    <tr>\n",
       "      <th>7917</th>\n",
       "      <td>7917</td>\n",
       "      <td>0.028204</td>\n",
       "      <td>0.015357</td>\n",
       "      <td>0.060715</td>\n",
       "      <td>0.050544</td>\n",
       "      <td>0.009601</td>\n",
       "      <td>0.280175</td>\n",
       "      <td>0.012602</td>\n",
       "      <td>0.023315</td>\n",
       "      <td>0.015298</td>\n",
       "      <td>...</td>\n",
       "      <td>0.010141</td>\n",
       "      <td>0.036342</td>\n",
       "      <td>0.014778</td>\n",
       "      <td>0.022093</td>\n",
       "      <td>0.011327</td>\n",
       "      <td>0.011154</td>\n",
       "      <td>0.010017</td>\n",
       "      <td>0.016837</td>\n",
       "      <td>0.019235</td>\n",
       "      <td>0.009463</td>\n",
       "    </tr>\n",
       "    <tr>\n",
       "      <th>1594</th>\n",
       "      <td>1594</td>\n",
       "      <td>0.057853</td>\n",
       "      <td>0.014457</td>\n",
       "      <td>0.117202</td>\n",
       "      <td>0.085573</td>\n",
       "      <td>0.009710</td>\n",
       "      <td>0.052245</td>\n",
       "      <td>0.013516</td>\n",
       "      <td>0.024863</td>\n",
       "      <td>0.021133</td>\n",
       "      <td>...</td>\n",
       "      <td>0.010420</td>\n",
       "      <td>0.021556</td>\n",
       "      <td>0.012659</td>\n",
       "      <td>0.024417</td>\n",
       "      <td>0.010333</td>\n",
       "      <td>0.012042</td>\n",
       "      <td>0.010358</td>\n",
       "      <td>0.017559</td>\n",
       "      <td>0.016529</td>\n",
       "      <td>0.009177</td>\n",
       "    </tr>\n",
       "    <tr>\n",
       "      <th>3641</th>\n",
       "      <td>3641</td>\n",
       "      <td>0.032948</td>\n",
       "      <td>0.014000</td>\n",
       "      <td>0.072805</td>\n",
       "      <td>0.096350</td>\n",
       "      <td>0.009211</td>\n",
       "      <td>0.054495</td>\n",
       "      <td>0.013071</td>\n",
       "      <td>0.024920</td>\n",
       "      <td>0.017793</td>\n",
       "      <td>...</td>\n",
       "      <td>0.009225</td>\n",
       "      <td>0.034264</td>\n",
       "      <td>0.014048</td>\n",
       "      <td>0.021192</td>\n",
       "      <td>0.011024</td>\n",
       "      <td>0.012041</td>\n",
       "      <td>0.010470</td>\n",
       "      <td>0.015558</td>\n",
       "      <td>0.018743</td>\n",
       "      <td>0.008634</td>\n",
       "    </tr>\n",
       "    <tr>\n",
       "      <th>11140</th>\n",
       "      <td>11140</td>\n",
       "      <td>0.032981</td>\n",
       "      <td>0.012827</td>\n",
       "      <td>0.173010</td>\n",
       "      <td>0.136229</td>\n",
       "      <td>0.010285</td>\n",
       "      <td>0.048835</td>\n",
       "      <td>0.015036</td>\n",
       "      <td>0.024573</td>\n",
       "      <td>0.019702</td>\n",
       "      <td>...</td>\n",
       "      <td>0.009524</td>\n",
       "      <td>0.038105</td>\n",
       "      <td>0.013540</td>\n",
       "      <td>0.023529</td>\n",
       "      <td>0.009492</td>\n",
       "      <td>0.010981</td>\n",
       "      <td>0.010774</td>\n",
       "      <td>0.017910</td>\n",
       "      <td>0.072049</td>\n",
       "      <td>0.012961</td>\n",
       "    </tr>\n",
       "    <tr>\n",
       "      <th>9867</th>\n",
       "      <td>9867</td>\n",
       "      <td>0.029973</td>\n",
       "      <td>0.013835</td>\n",
       "      <td>0.120456</td>\n",
       "      <td>0.078160</td>\n",
       "      <td>0.010340</td>\n",
       "      <td>0.046145</td>\n",
       "      <td>0.014061</td>\n",
       "      <td>0.026924</td>\n",
       "      <td>0.020477</td>\n",
       "      <td>...</td>\n",
       "      <td>0.009050</td>\n",
       "      <td>0.035828</td>\n",
       "      <td>0.014052</td>\n",
       "      <td>0.027047</td>\n",
       "      <td>0.010916</td>\n",
       "      <td>0.011611</td>\n",
       "      <td>0.010779</td>\n",
       "      <td>0.017763</td>\n",
       "      <td>0.020135</td>\n",
       "      <td>0.008676</td>\n",
       "    </tr>\n",
       "    <tr>\n",
       "      <th>9260</th>\n",
       "      <td>9260</td>\n",
       "      <td>0.049891</td>\n",
       "      <td>0.013001</td>\n",
       "      <td>0.168937</td>\n",
       "      <td>0.073224</td>\n",
       "      <td>0.009293</td>\n",
       "      <td>0.065074</td>\n",
       "      <td>0.009681</td>\n",
       "      <td>0.033413</td>\n",
       "      <td>0.024194</td>\n",
       "      <td>...</td>\n",
       "      <td>0.010955</td>\n",
       "      <td>0.092536</td>\n",
       "      <td>0.017769</td>\n",
       "      <td>0.023213</td>\n",
       "      <td>0.010390</td>\n",
       "      <td>0.009087</td>\n",
       "      <td>0.010972</td>\n",
       "      <td>0.015830</td>\n",
       "      <td>0.024200</td>\n",
       "      <td>0.009576</td>\n",
       "    </tr>\n",
       "    <tr>\n",
       "      <th>9194</th>\n",
       "      <td>9194</td>\n",
       "      <td>0.037144</td>\n",
       "      <td>0.015227</td>\n",
       "      <td>0.040280</td>\n",
       "      <td>0.081640</td>\n",
       "      <td>0.011545</td>\n",
       "      <td>0.136322</td>\n",
       "      <td>0.011463</td>\n",
       "      <td>0.019607</td>\n",
       "      <td>0.019337</td>\n",
       "      <td>...</td>\n",
       "      <td>0.010949</td>\n",
       "      <td>0.023976</td>\n",
       "      <td>0.012137</td>\n",
       "      <td>0.021271</td>\n",
       "      <td>0.010732</td>\n",
       "      <td>0.010616</td>\n",
       "      <td>0.011092</td>\n",
       "      <td>0.015718</td>\n",
       "      <td>0.018379</td>\n",
       "      <td>0.009740</td>\n",
       "    </tr>\n",
       "    <tr>\n",
       "      <th>12143</th>\n",
       "      <td>12143</td>\n",
       "      <td>0.045899</td>\n",
       "      <td>0.015151</td>\n",
       "      <td>0.095781</td>\n",
       "      <td>0.088820</td>\n",
       "      <td>0.009932</td>\n",
       "      <td>0.058825</td>\n",
       "      <td>0.010240</td>\n",
       "      <td>0.022741</td>\n",
       "      <td>0.028307</td>\n",
       "      <td>...</td>\n",
       "      <td>0.009852</td>\n",
       "      <td>0.050872</td>\n",
       "      <td>0.016666</td>\n",
       "      <td>0.023161</td>\n",
       "      <td>0.009646</td>\n",
       "      <td>0.012589</td>\n",
       "      <td>0.013520</td>\n",
       "      <td>0.014366</td>\n",
       "      <td>0.016580</td>\n",
       "      <td>0.008671</td>\n",
       "    </tr>\n",
       "    <tr>\n",
       "      <th>1387</th>\n",
       "      <td>1387</td>\n",
       "      <td>0.059144</td>\n",
       "      <td>0.013188</td>\n",
       "      <td>0.146564</td>\n",
       "      <td>0.099855</td>\n",
       "      <td>0.009657</td>\n",
       "      <td>0.045214</td>\n",
       "      <td>0.012363</td>\n",
       "      <td>0.033895</td>\n",
       "      <td>0.021480</td>\n",
       "      <td>...</td>\n",
       "      <td>0.010608</td>\n",
       "      <td>0.088072</td>\n",
       "      <td>0.015330</td>\n",
       "      <td>0.021515</td>\n",
       "      <td>0.010699</td>\n",
       "      <td>0.010022</td>\n",
       "      <td>0.012199</td>\n",
       "      <td>0.015889</td>\n",
       "      <td>0.033636</td>\n",
       "      <td>0.009632</td>\n",
       "    </tr>\n",
       "    <tr>\n",
       "      <th>2154</th>\n",
       "      <td>2154</td>\n",
       "      <td>0.052034</td>\n",
       "      <td>0.013943</td>\n",
       "      <td>0.100890</td>\n",
       "      <td>0.082064</td>\n",
       "      <td>0.010061</td>\n",
       "      <td>0.060907</td>\n",
       "      <td>0.012052</td>\n",
       "      <td>0.028082</td>\n",
       "      <td>0.021297</td>\n",
       "      <td>...</td>\n",
       "      <td>0.010211</td>\n",
       "      <td>0.053396</td>\n",
       "      <td>0.014754</td>\n",
       "      <td>0.023908</td>\n",
       "      <td>0.010214</td>\n",
       "      <td>0.011437</td>\n",
       "      <td>0.011413</td>\n",
       "      <td>0.018015</td>\n",
       "      <td>0.026256</td>\n",
       "      <td>0.009872</td>\n",
       "    </tr>\n",
       "    <tr>\n",
       "      <th>9440</th>\n",
       "      <td>9440</td>\n",
       "      <td>0.044400</td>\n",
       "      <td>0.014427</td>\n",
       "      <td>0.158646</td>\n",
       "      <td>0.078655</td>\n",
       "      <td>0.010166</td>\n",
       "      <td>0.062124</td>\n",
       "      <td>0.011469</td>\n",
       "      <td>0.033008</td>\n",
       "      <td>0.021474</td>\n",
       "      <td>...</td>\n",
       "      <td>0.010322</td>\n",
       "      <td>0.051862</td>\n",
       "      <td>0.016656</td>\n",
       "      <td>0.024720</td>\n",
       "      <td>0.010174</td>\n",
       "      <td>0.010002</td>\n",
       "      <td>0.012268</td>\n",
       "      <td>0.023419</td>\n",
       "      <td>0.020721</td>\n",
       "      <td>0.009064</td>\n",
       "    </tr>\n",
       "    <tr>\n",
       "      <th>5716</th>\n",
       "      <td>5716</td>\n",
       "      <td>0.040303</td>\n",
       "      <td>0.014098</td>\n",
       "      <td>0.067947</td>\n",
       "      <td>0.113469</td>\n",
       "      <td>0.010769</td>\n",
       "      <td>0.053786</td>\n",
       "      <td>0.013334</td>\n",
       "      <td>0.024913</td>\n",
       "      <td>0.019132</td>\n",
       "      <td>...</td>\n",
       "      <td>0.009034</td>\n",
       "      <td>0.030896</td>\n",
       "      <td>0.013941</td>\n",
       "      <td>0.023643</td>\n",
       "      <td>0.010887</td>\n",
       "      <td>0.012681</td>\n",
       "      <td>0.011798</td>\n",
       "      <td>0.017914</td>\n",
       "      <td>0.020286</td>\n",
       "      <td>0.009907</td>\n",
       "    </tr>\n",
       "    <tr>\n",
       "      <th>6757</th>\n",
       "      <td>6757</td>\n",
       "      <td>0.038358</td>\n",
       "      <td>0.017080</td>\n",
       "      <td>0.074094</td>\n",
       "      <td>0.085066</td>\n",
       "      <td>0.011080</td>\n",
       "      <td>0.136795</td>\n",
       "      <td>0.010603</td>\n",
       "      <td>0.021301</td>\n",
       "      <td>0.017172</td>\n",
       "      <td>...</td>\n",
       "      <td>0.011073</td>\n",
       "      <td>0.026053</td>\n",
       "      <td>0.012117</td>\n",
       "      <td>0.021601</td>\n",
       "      <td>0.010284</td>\n",
       "      <td>0.010365</td>\n",
       "      <td>0.011350</td>\n",
       "      <td>0.022016</td>\n",
       "      <td>0.021536</td>\n",
       "      <td>0.009826</td>\n",
       "    </tr>\n",
       "    <tr>\n",
       "      <th>2702</th>\n",
       "      <td>2702</td>\n",
       "      <td>0.055258</td>\n",
       "      <td>0.016184</td>\n",
       "      <td>0.076876</td>\n",
       "      <td>0.084892</td>\n",
       "      <td>0.009834</td>\n",
       "      <td>0.069305</td>\n",
       "      <td>0.011633</td>\n",
       "      <td>0.022997</td>\n",
       "      <td>0.020281</td>\n",
       "      <td>...</td>\n",
       "      <td>0.011329</td>\n",
       "      <td>0.028669</td>\n",
       "      <td>0.012868</td>\n",
       "      <td>0.024328</td>\n",
       "      <td>0.011339</td>\n",
       "      <td>0.011027</td>\n",
       "      <td>0.010087</td>\n",
       "      <td>0.022419</td>\n",
       "      <td>0.018197</td>\n",
       "      <td>0.008916</td>\n",
       "    </tr>\n",
       "    <tr>\n",
       "      <th>8474</th>\n",
       "      <td>8474</td>\n",
       "      <td>0.055045</td>\n",
       "      <td>0.013826</td>\n",
       "      <td>0.237016</td>\n",
       "      <td>0.063976</td>\n",
       "      <td>0.009199</td>\n",
       "      <td>0.043674</td>\n",
       "      <td>0.011031</td>\n",
       "      <td>0.040106</td>\n",
       "      <td>0.020999</td>\n",
       "      <td>...</td>\n",
       "      <td>0.011133</td>\n",
       "      <td>0.100795</td>\n",
       "      <td>0.017433</td>\n",
       "      <td>0.021125</td>\n",
       "      <td>0.011100</td>\n",
       "      <td>0.009080</td>\n",
       "      <td>0.011393</td>\n",
       "      <td>0.017108</td>\n",
       "      <td>0.022606</td>\n",
       "      <td>0.009560</td>\n",
       "    </tr>\n",
       "    <tr>\n",
       "      <th>277</th>\n",
       "      <td>277</td>\n",
       "      <td>0.040902</td>\n",
       "      <td>0.015079</td>\n",
       "      <td>0.100064</td>\n",
       "      <td>0.085197</td>\n",
       "      <td>0.010401</td>\n",
       "      <td>0.062806</td>\n",
       "      <td>0.012871</td>\n",
       "      <td>0.022881</td>\n",
       "      <td>0.019315</td>\n",
       "      <td>...</td>\n",
       "      <td>0.009990</td>\n",
       "      <td>0.030696</td>\n",
       "      <td>0.012393</td>\n",
       "      <td>0.020357</td>\n",
       "      <td>0.009104</td>\n",
       "      <td>0.011193</td>\n",
       "      <td>0.011905</td>\n",
       "      <td>0.014898</td>\n",
       "      <td>0.021025</td>\n",
       "      <td>0.009070</td>\n",
       "    </tr>\n",
       "    <tr>\n",
       "      <th>9823</th>\n",
       "      <td>9823</td>\n",
       "      <td>0.083388</td>\n",
       "      <td>0.014569</td>\n",
       "      <td>0.162255</td>\n",
       "      <td>0.087631</td>\n",
       "      <td>0.009383</td>\n",
       "      <td>0.057655</td>\n",
       "      <td>0.011834</td>\n",
       "      <td>0.030983</td>\n",
       "      <td>0.019623</td>\n",
       "      <td>...</td>\n",
       "      <td>0.011696</td>\n",
       "      <td>0.071333</td>\n",
       "      <td>0.024173</td>\n",
       "      <td>0.024640</td>\n",
       "      <td>0.010326</td>\n",
       "      <td>0.009844</td>\n",
       "      <td>0.011068</td>\n",
       "      <td>0.019408</td>\n",
       "      <td>0.020971</td>\n",
       "      <td>0.009357</td>\n",
       "    </tr>\n",
       "    <tr>\n",
       "      <th>8360</th>\n",
       "      <td>8360</td>\n",
       "      <td>0.042950</td>\n",
       "      <td>0.015288</td>\n",
       "      <td>0.106332</td>\n",
       "      <td>0.120565</td>\n",
       "      <td>0.010031</td>\n",
       "      <td>0.059462</td>\n",
       "      <td>0.013849</td>\n",
       "      <td>0.026921</td>\n",
       "      <td>0.020422</td>\n",
       "      <td>...</td>\n",
       "      <td>0.010044</td>\n",
       "      <td>0.042956</td>\n",
       "      <td>0.015226</td>\n",
       "      <td>0.026990</td>\n",
       "      <td>0.010269</td>\n",
       "      <td>0.012307</td>\n",
       "      <td>0.010754</td>\n",
       "      <td>0.020592</td>\n",
       "      <td>0.020733</td>\n",
       "      <td>0.008891</td>\n",
       "    </tr>\n",
       "    <tr>\n",
       "      <th>1373</th>\n",
       "      <td>1373</td>\n",
       "      <td>0.032842</td>\n",
       "      <td>0.012932</td>\n",
       "      <td>0.107432</td>\n",
       "      <td>0.089193</td>\n",
       "      <td>0.010504</td>\n",
       "      <td>0.042690</td>\n",
       "      <td>0.010515</td>\n",
       "      <td>0.021267</td>\n",
       "      <td>0.020295</td>\n",
       "      <td>...</td>\n",
       "      <td>0.009039</td>\n",
       "      <td>0.037101</td>\n",
       "      <td>0.014756</td>\n",
       "      <td>0.022540</td>\n",
       "      <td>0.010042</td>\n",
       "      <td>0.011908</td>\n",
       "      <td>0.011162</td>\n",
       "      <td>0.023988</td>\n",
       "      <td>0.034069</td>\n",
       "      <td>0.011128</td>\n",
       "    </tr>\n",
       "    <tr>\n",
       "      <th>6526</th>\n",
       "      <td>6526</td>\n",
       "      <td>0.044682</td>\n",
       "      <td>0.015810</td>\n",
       "      <td>0.073438</td>\n",
       "      <td>0.071358</td>\n",
       "      <td>0.010313</td>\n",
       "      <td>0.055238</td>\n",
       "      <td>0.011052</td>\n",
       "      <td>0.028438</td>\n",
       "      <td>0.024566</td>\n",
       "      <td>...</td>\n",
       "      <td>0.011430</td>\n",
       "      <td>0.046520</td>\n",
       "      <td>0.014501</td>\n",
       "      <td>0.023787</td>\n",
       "      <td>0.012164</td>\n",
       "      <td>0.010110</td>\n",
       "      <td>0.012126</td>\n",
       "      <td>0.017494</td>\n",
       "      <td>0.020948</td>\n",
       "      <td>0.009401</td>\n",
       "    </tr>\n",
       "    <tr>\n",
       "      <th>7602</th>\n",
       "      <td>7602</td>\n",
       "      <td>0.034597</td>\n",
       "      <td>0.013602</td>\n",
       "      <td>0.064302</td>\n",
       "      <td>0.103785</td>\n",
       "      <td>0.009554</td>\n",
       "      <td>0.061039</td>\n",
       "      <td>0.012774</td>\n",
       "      <td>0.022832</td>\n",
       "      <td>0.018386</td>\n",
       "      <td>...</td>\n",
       "      <td>0.009387</td>\n",
       "      <td>0.030130</td>\n",
       "      <td>0.014503</td>\n",
       "      <td>0.024989</td>\n",
       "      <td>0.010519</td>\n",
       "      <td>0.010072</td>\n",
       "      <td>0.011190</td>\n",
       "      <td>0.018832</td>\n",
       "      <td>0.021499</td>\n",
       "      <td>0.009827</td>\n",
       "    </tr>\n",
       "    <tr>\n",
       "      <th>9751</th>\n",
       "      <td>9751</td>\n",
       "      <td>0.273069</td>\n",
       "      <td>0.013548</td>\n",
       "      <td>0.082451</td>\n",
       "      <td>0.121429</td>\n",
       "      <td>0.010503</td>\n",
       "      <td>0.037085</td>\n",
       "      <td>0.010575</td>\n",
       "      <td>0.023782</td>\n",
       "      <td>0.018681</td>\n",
       "      <td>...</td>\n",
       "      <td>0.009911</td>\n",
       "      <td>0.047865</td>\n",
       "      <td>0.028813</td>\n",
       "      <td>0.036684</td>\n",
       "      <td>0.009334</td>\n",
       "      <td>0.010375</td>\n",
       "      <td>0.011170</td>\n",
       "      <td>0.017061</td>\n",
       "      <td>0.022616</td>\n",
       "      <td>0.009767</td>\n",
       "    </tr>\n",
       "    <tr>\n",
       "      <th>3488</th>\n",
       "      <td>3488</td>\n",
       "      <td>0.069563</td>\n",
       "      <td>0.015801</td>\n",
       "      <td>0.084618</td>\n",
       "      <td>0.061533</td>\n",
       "      <td>0.009721</td>\n",
       "      <td>0.088641</td>\n",
       "      <td>0.010145</td>\n",
       "      <td>0.021294</td>\n",
       "      <td>0.018714</td>\n",
       "      <td>...</td>\n",
       "      <td>0.012455</td>\n",
       "      <td>0.038247</td>\n",
       "      <td>0.014628</td>\n",
       "      <td>0.023193</td>\n",
       "      <td>0.010533</td>\n",
       "      <td>0.009382</td>\n",
       "      <td>0.010060</td>\n",
       "      <td>0.019015</td>\n",
       "      <td>0.018879</td>\n",
       "      <td>0.009571</td>\n",
       "    </tr>\n",
       "    <tr>\n",
       "      <th>11192</th>\n",
       "      <td>11192</td>\n",
       "      <td>0.048383</td>\n",
       "      <td>0.014252</td>\n",
       "      <td>0.068026</td>\n",
       "      <td>0.146840</td>\n",
       "      <td>0.009219</td>\n",
       "      <td>0.051449</td>\n",
       "      <td>0.011628</td>\n",
       "      <td>0.023995</td>\n",
       "      <td>0.021368</td>\n",
       "      <td>...</td>\n",
       "      <td>0.009584</td>\n",
       "      <td>0.084024</td>\n",
       "      <td>0.016631</td>\n",
       "      <td>0.027675</td>\n",
       "      <td>0.011561</td>\n",
       "      <td>0.010680</td>\n",
       "      <td>0.011522</td>\n",
       "      <td>0.016678</td>\n",
       "      <td>0.032700</td>\n",
       "      <td>0.010524</td>\n",
       "    </tr>\n",
       "    <tr>\n",
       "      <th>5369</th>\n",
       "      <td>5369</td>\n",
       "      <td>0.044722</td>\n",
       "      <td>0.014096</td>\n",
       "      <td>0.107614</td>\n",
       "      <td>0.066813</td>\n",
       "      <td>0.010139</td>\n",
       "      <td>0.235199</td>\n",
       "      <td>0.011684</td>\n",
       "      <td>0.026407</td>\n",
       "      <td>0.021501</td>\n",
       "      <td>...</td>\n",
       "      <td>0.010877</td>\n",
       "      <td>0.039575</td>\n",
       "      <td>0.014728</td>\n",
       "      <td>0.022627</td>\n",
       "      <td>0.009668</td>\n",
       "      <td>0.010253</td>\n",
       "      <td>0.010993</td>\n",
       "      <td>0.017040</td>\n",
       "      <td>0.020095</td>\n",
       "      <td>0.008647</td>\n",
       "    </tr>\n",
       "    <tr>\n",
       "      <th>3660</th>\n",
       "      <td>3660</td>\n",
       "      <td>0.050108</td>\n",
       "      <td>0.015833</td>\n",
       "      <td>0.078243</td>\n",
       "      <td>0.111596</td>\n",
       "      <td>0.011324</td>\n",
       "      <td>0.046655</td>\n",
       "      <td>0.011766</td>\n",
       "      <td>0.027180</td>\n",
       "      <td>0.020406</td>\n",
       "      <td>...</td>\n",
       "      <td>0.009525</td>\n",
       "      <td>0.040326</td>\n",
       "      <td>0.014158</td>\n",
       "      <td>0.022142</td>\n",
       "      <td>0.010270</td>\n",
       "      <td>0.011685</td>\n",
       "      <td>0.011935</td>\n",
       "      <td>0.016370</td>\n",
       "      <td>0.023830</td>\n",
       "      <td>0.009777</td>\n",
       "    </tr>\n",
       "    <tr>\n",
       "      <th>6456</th>\n",
       "      <td>6456</td>\n",
       "      <td>0.051523</td>\n",
       "      <td>0.014155</td>\n",
       "      <td>0.103478</td>\n",
       "      <td>0.085178</td>\n",
       "      <td>0.009491</td>\n",
       "      <td>0.048034</td>\n",
       "      <td>0.011709</td>\n",
       "      <td>0.041582</td>\n",
       "      <td>0.019569</td>\n",
       "      <td>...</td>\n",
       "      <td>0.009982</td>\n",
       "      <td>0.101339</td>\n",
       "      <td>0.017124</td>\n",
       "      <td>0.020624</td>\n",
       "      <td>0.009629</td>\n",
       "      <td>0.009362</td>\n",
       "      <td>0.011682</td>\n",
       "      <td>0.018393</td>\n",
       "      <td>0.030398</td>\n",
       "      <td>0.010125</td>\n",
       "    </tr>\n",
       "    <tr>\n",
       "      <th>4339</th>\n",
       "      <td>4339</td>\n",
       "      <td>0.038317</td>\n",
       "      <td>0.013781</td>\n",
       "      <td>0.137385</td>\n",
       "      <td>0.085961</td>\n",
       "      <td>0.010175</td>\n",
       "      <td>0.039830</td>\n",
       "      <td>0.014418</td>\n",
       "      <td>0.026273</td>\n",
       "      <td>0.018015</td>\n",
       "      <td>...</td>\n",
       "      <td>0.009276</td>\n",
       "      <td>0.032248</td>\n",
       "      <td>0.013231</td>\n",
       "      <td>0.025704</td>\n",
       "      <td>0.010459</td>\n",
       "      <td>0.010769</td>\n",
       "      <td>0.010596</td>\n",
       "      <td>0.017079</td>\n",
       "      <td>0.020049</td>\n",
       "      <td>0.008439</td>\n",
       "    </tr>\n",
       "  </tbody>\n",
       "</table>\n",
       "<p>2584 rows × 98 columns</p>\n",
       "</div>"
      ],
      "text/plain": [
       "          id   Mapping     Other      Data     Tools    Design  eCommerce  \\\n",
       "12648  12648  0.059502  0.016300  0.069075  0.184158  0.010389   0.040255   \n",
       "7431    7431  0.043236  0.012561  0.099321  0.092043  0.009730   0.054804   \n",
       "7707    7707  0.045695  0.015220  0.072321  0.212006  0.012010   0.041631   \n",
       "3028    3028  0.039052  0.012363  0.181918  0.041233  0.008606   0.056111   \n",
       "3130    3130  0.044174  0.014767  0.065899  0.079825  0.010228   0.078384   \n",
       "8544    8544  0.057848  0.015260  0.207436  0.081906  0.010276   0.107057   \n",
       "10118  10118  0.042728  0.014360  0.082552  0.134707  0.010507   0.046576   \n",
       "9102    9102  0.040676  0.013522  0.109495  0.061912  0.010939   0.110587   \n",
       "5040    5040  0.045315  0.016867  0.089092  0.152474  0.011858   0.042891   \n",
       "296      296  0.037780  0.013869  0.108852  0.093276  0.010625   0.052787   \n",
       "2087    2087  0.040160  0.013025  0.084920  0.076795  0.010644   0.049546   \n",
       "7948    7948  0.046080  0.011979  0.078820  0.082267  0.009548   0.099876   \n",
       "499      499  0.035984  0.013838  0.059632  0.052883  0.008469   0.063083   \n",
       "5260    5260  0.040078  0.013890  0.083034  0.187701  0.011363   0.032021   \n",
       "7767    7767  0.041014  0.013520  0.085250  0.081411  0.009950   0.118920   \n",
       "2272    2272  0.041030  0.013562  0.130323  0.110742  0.009995   0.050892   \n",
       "11322  11322  0.034987  0.014621  0.051255  0.121183  0.010053   0.053369   \n",
       "8413    8413  0.057518  0.013447  0.077831  0.074875  0.009308   0.073652   \n",
       "3567    3567  0.036671  0.013632  0.067277  0.093429  0.009396   0.081479   \n",
       "4657    4657  0.047175  0.014086  0.071941  0.104689  0.009816   0.054526   \n",
       "2799    2799  0.097741  0.014325  0.167964  0.066224  0.009907   0.078886   \n",
       "11304  11304  0.040805  0.015867  0.060673  0.121972  0.010448   0.051476   \n",
       "10852  10852  0.055494  0.013488  0.058074  0.123342  0.011103   0.043812   \n",
       "1236    1236  0.035076  0.013066  0.089958  0.128288  0.010066   0.057291   \n",
       "6948    6948  0.053122  0.014242  0.378838  0.055086  0.009362   0.121402   \n",
       "9418    9418  0.039304  0.013087  0.096044  0.053053  0.009060   0.070535   \n",
       "7133    7133  0.039999  0.015174  0.117159  0.059754  0.009748   0.038184   \n",
       "11219  11219  0.087024  0.013305  0.127174  0.074754  0.009181   0.053238   \n",
       "8763    8763  0.057453  0.014836  0.097895  0.081589  0.009605   0.049832   \n",
       "343      343  0.053833  0.014037  0.103902  0.081540  0.010179   0.054370   \n",
       "...      ...       ...       ...       ...       ...       ...        ...   \n",
       "6756    6756  0.036744  0.013479  0.061549  0.060311  0.010126   0.133021   \n",
       "5611    5611  0.050195  0.011651  0.131168  0.048138  0.008510   0.081677   \n",
       "7917    7917  0.028204  0.015357  0.060715  0.050544  0.009601   0.280175   \n",
       "1594    1594  0.057853  0.014457  0.117202  0.085573  0.009710   0.052245   \n",
       "3641    3641  0.032948  0.014000  0.072805  0.096350  0.009211   0.054495   \n",
       "11140  11140  0.032981  0.012827  0.173010  0.136229  0.010285   0.048835   \n",
       "9867    9867  0.029973  0.013835  0.120456  0.078160  0.010340   0.046145   \n",
       "9260    9260  0.049891  0.013001  0.168937  0.073224  0.009293   0.065074   \n",
       "9194    9194  0.037144  0.015227  0.040280  0.081640  0.011545   0.136322   \n",
       "12143  12143  0.045899  0.015151  0.095781  0.088820  0.009932   0.058825   \n",
       "1387    1387  0.059144  0.013188  0.146564  0.099855  0.009657   0.045214   \n",
       "2154    2154  0.052034  0.013943  0.100890  0.082064  0.010061   0.060907   \n",
       "9440    9440  0.044400  0.014427  0.158646  0.078655  0.010166   0.062124   \n",
       "5716    5716  0.040303  0.014098  0.067947  0.113469  0.010769   0.053786   \n",
       "6757    6757  0.038358  0.017080  0.074094  0.085066  0.011080   0.136795   \n",
       "2702    2702  0.055258  0.016184  0.076876  0.084892  0.009834   0.069305   \n",
       "8474    8474  0.055045  0.013826  0.237016  0.063976  0.009199   0.043674   \n",
       "277      277  0.040902  0.015079  0.100064  0.085197  0.010401   0.062806   \n",
       "9823    9823  0.083388  0.014569  0.162255  0.087631  0.009383   0.057655   \n",
       "8360    8360  0.042950  0.015288  0.106332  0.120565  0.010031   0.059462   \n",
       "1373    1373  0.032842  0.012932  0.107432  0.089193  0.010504   0.042690   \n",
       "6526    6526  0.044682  0.015810  0.073438  0.071358  0.010313   0.055238   \n",
       "7602    7602  0.034597  0.013602  0.064302  0.103785  0.009554   0.061039   \n",
       "9751    9751  0.273069  0.013548  0.082451  0.121429  0.010503   0.037085   \n",
       "3488    3488  0.069563  0.015801  0.084618  0.061533  0.009721   0.088641   \n",
       "11192  11192  0.048383  0.014252  0.068026  0.146840  0.009219   0.051449   \n",
       "5369    5369  0.044722  0.014096  0.107614  0.066813  0.010139   0.235199   \n",
       "3660    3660  0.050108  0.015833  0.078243  0.111596  0.011324   0.046655   \n",
       "6456    6456  0.051523  0.014155  0.103478  0.085178  0.009491   0.048034   \n",
       "4339    4339  0.038317  0.013781  0.137385  0.085961  0.010175   0.039830   \n",
       "\n",
       "       Authentication  Education     Games     ...           Food  Reference  \\\n",
       "12648        0.011137   0.020989  0.019257     ...       0.009184   0.024092   \n",
       "7431         0.011015   0.023659  0.023198     ...       0.010060   0.044418   \n",
       "7707         0.011339   0.024081  0.019779     ...       0.009700   0.034563   \n",
       "3028         0.009688   0.021292  0.068832     ...       0.009558   0.041040   \n",
       "3130         0.012327   0.021850  0.019878     ...       0.010541   0.034765   \n",
       "8544         0.011117   0.027027  0.021142     ...       0.012621   0.105966   \n",
       "10118        0.012218   0.028602  0.021358     ...       0.010588   0.056406   \n",
       "9102         0.010455   0.023828  0.019467     ...       0.010069   0.048789   \n",
       "5040         0.012122   0.024121  0.019690     ...       0.009232   0.031391   \n",
       "296          0.019808   0.023031  0.020817     ...       0.008940   0.026124   \n",
       "2087         0.012542   0.025167  0.023653     ...       0.009558   0.035010   \n",
       "7948         0.016656   0.018549  0.016655     ...       0.009906   0.024904   \n",
       "499          0.012130   0.018869  0.016270     ...       0.009138   0.026145   \n",
       "5260         0.010454   0.026904  0.018382     ...       0.009259   0.032790   \n",
       "7767         0.012290   0.024708  0.019151     ...       0.010108   0.038859   \n",
       "2272         0.011799   0.023209  0.021252     ...       0.009574   0.038307   \n",
       "11322        0.011743   0.022836  0.016882     ...       0.008879   0.030088   \n",
       "8413         0.012200   0.024147  0.016453     ...       0.010060   0.057130   \n",
       "3567         0.011645   0.024693  0.017683     ...       0.009370   0.042089   \n",
       "4657         0.012477   0.022694  0.021436     ...       0.009441   0.052582   \n",
       "2799         0.010644   0.025724  0.023420     ...       0.015002   0.072877   \n",
       "11304        0.013853   0.022793  0.019331     ...       0.009856   0.032476   \n",
       "10852        0.011564   0.024387  0.018824     ...       0.009822   0.047954   \n",
       "1236         0.011407   0.022534  0.019533     ...       0.010158   0.031065   \n",
       "6948         0.009699   0.029887  0.020013     ...       0.013213   0.099259   \n",
       "9418         0.012439   0.029471  0.017002     ...       0.010063   0.062675   \n",
       "7133         0.011306   0.024440  0.025099     ...       0.009598   0.042381   \n",
       "11219        0.010778   0.027297  0.023956     ...       0.011575   0.076477   \n",
       "8763         0.010790   0.027201  0.019411     ...       0.010571   0.072006   \n",
       "343          0.010951   0.029603  0.025323     ...       0.011111   0.054617   \n",
       "...               ...        ...       ...     ...            ...        ...   \n",
       "6756         0.016899   0.024237  0.021116     ...       0.009552   0.028748   \n",
       "5611         0.013081   0.025145  0.016616     ...       0.009871   0.069605   \n",
       "7917         0.012602   0.023315  0.015298     ...       0.010141   0.036342   \n",
       "1594         0.013516   0.024863  0.021133     ...       0.010420   0.021556   \n",
       "3641         0.013071   0.024920  0.017793     ...       0.009225   0.034264   \n",
       "11140        0.015036   0.024573  0.019702     ...       0.009524   0.038105   \n",
       "9867         0.014061   0.026924  0.020477     ...       0.009050   0.035828   \n",
       "9260         0.009681   0.033413  0.024194     ...       0.010955   0.092536   \n",
       "9194         0.011463   0.019607  0.019337     ...       0.010949   0.023976   \n",
       "12143        0.010240   0.022741  0.028307     ...       0.009852   0.050872   \n",
       "1387         0.012363   0.033895  0.021480     ...       0.010608   0.088072   \n",
       "2154         0.012052   0.028082  0.021297     ...       0.010211   0.053396   \n",
       "9440         0.011469   0.033008  0.021474     ...       0.010322   0.051862   \n",
       "5716         0.013334   0.024913  0.019132     ...       0.009034   0.030896   \n",
       "6757         0.010603   0.021301  0.017172     ...       0.011073   0.026053   \n",
       "2702         0.011633   0.022997  0.020281     ...       0.011329   0.028669   \n",
       "8474         0.011031   0.040106  0.020999     ...       0.011133   0.100795   \n",
       "277          0.012871   0.022881  0.019315     ...       0.009990   0.030696   \n",
       "9823         0.011834   0.030983  0.019623     ...       0.011696   0.071333   \n",
       "8360         0.013849   0.026921  0.020422     ...       0.010044   0.042956   \n",
       "1373         0.010515   0.021267  0.020295     ...       0.009039   0.037101   \n",
       "6526         0.011052   0.028438  0.024566     ...       0.011430   0.046520   \n",
       "7602         0.012774   0.022832  0.018386     ...       0.009387   0.030130   \n",
       "9751         0.010575   0.023782  0.018681     ...       0.009911   0.047865   \n",
       "3488         0.010145   0.021294  0.018714     ...       0.012455   0.038247   \n",
       "11192        0.011628   0.023995  0.021368     ...       0.009584   0.084024   \n",
       "5369         0.011684   0.026407  0.021501     ...       0.010877   0.039575   \n",
       "3660         0.011766   0.027180  0.020406     ...       0.009525   0.040326   \n",
       "6456         0.011709   0.041582  0.019569     ...       0.009982   0.101339   \n",
       "4339         0.014418   0.026273  0.018015     ...       0.009276   0.032248   \n",
       "\n",
       "        England      Time      Jobs      Chat  Blogging      Auto  Language  \\\n",
       "12648  0.013664  0.068783  0.010350  0.012917  0.011517  0.014190  0.020858   \n",
       "7431   0.014443  0.025039  0.009756  0.009785  0.011265  0.017856  0.021026   \n",
       "7707   0.014028  0.021239  0.009491  0.020062  0.013947  0.015876  0.027506   \n",
       "3028   0.016065  0.039505  0.009902  0.010315  0.010090  0.021476  0.016918   \n",
       "3130   0.014030  0.023662  0.010546  0.010133  0.010483  0.018398  0.020043   \n",
       "8544   0.018663  0.020650  0.009479  0.009626  0.011008  0.018625  0.017722   \n",
       "10118  0.015187  0.019918  0.010334  0.009952  0.012094  0.015939  0.023266   \n",
       "9102   0.017624  0.023877  0.009535  0.010882  0.011468  0.020430  0.019241   \n",
       "5040   0.012978  0.020915  0.009430  0.012078  0.013444  0.017971  0.032514   \n",
       "296    0.012333  0.021877  0.010346  0.011770  0.011097  0.017063  0.019753   \n",
       "2087   0.013761  0.022092  0.010478  0.011430  0.012443  0.020108  0.020787   \n",
       "7948   0.013804  0.023812  0.009843  0.011033  0.010564  0.018697  0.021091   \n",
       "499    0.014270  0.020854  0.009159  0.015468  0.010382  0.016109  0.016476   \n",
       "5260   0.013628  0.020417  0.009627  0.010767  0.011276  0.015027  0.022877   \n",
       "7767   0.015408  0.020958  0.010655  0.010874  0.010866  0.018505  0.022296   \n",
       "2272   0.013382  0.028248  0.010028  0.011128  0.010990  0.019930  0.030651   \n",
       "11322  0.014887  0.024582  0.010422  0.012590  0.011198  0.019403  0.018774   \n",
       "8413   0.018934  0.031333  0.009339  0.010684  0.010782  0.015395  0.020370   \n",
       "3567   0.014597  0.032327  0.010204  0.011881  0.012443  0.017150  0.027552   \n",
       "4657   0.015617  0.024578  0.009293  0.011690  0.011833  0.019634  0.021297   \n",
       "2799   0.016608  0.023554  0.011474  0.009452  0.011819  0.017884  0.020431   \n",
       "11304  0.013984  0.022800  0.010967  0.011547  0.011211  0.022866  0.020261   \n",
       "10852  0.015662  0.019490  0.010218  0.009721  0.011410  0.015753  0.021375   \n",
       "1236   0.012155  0.023106  0.009766  0.013691  0.011660  0.016746  0.077208   \n",
       "6948   0.016908  0.022656  0.010361  0.008338  0.011077  0.017158  0.019491   \n",
       "9418   0.018063  0.020164  0.010604  0.010955  0.010005  0.019623  0.017721   \n",
       "7133   0.014919  0.022656  0.009688  0.012686  0.012493  0.017705  0.019424   \n",
       "11219  0.016736  0.039150  0.010126  0.009565  0.011823  0.017557  0.021302   \n",
       "8763   0.016628  0.019762  0.010475  0.009418  0.011731  0.017971  0.021627   \n",
       "343    0.015434  0.023659  0.010225  0.009461  0.011929  0.019452  0.027544   \n",
       "...         ...       ...       ...       ...       ...       ...       ...   \n",
       "6756   0.014110  0.024144  0.010034  0.011136  0.010823  0.017634  0.017066   \n",
       "5611   0.018290  0.020599  0.010738  0.009046  0.009670  0.015423  0.024091   \n",
       "7917   0.014778  0.022093  0.011327  0.011154  0.010017  0.016837  0.019235   \n",
       "1594   0.012659  0.024417  0.010333  0.012042  0.010358  0.017559  0.016529   \n",
       "3641   0.014048  0.021192  0.011024  0.012041  0.010470  0.015558  0.018743   \n",
       "11140  0.013540  0.023529  0.009492  0.010981  0.010774  0.017910  0.072049   \n",
       "9867   0.014052  0.027047  0.010916  0.011611  0.010779  0.017763  0.020135   \n",
       "9260   0.017769  0.023213  0.010390  0.009087  0.010972  0.015830  0.024200   \n",
       "9194   0.012137  0.021271  0.010732  0.010616  0.011092  0.015718  0.018379   \n",
       "12143  0.016666  0.023161  0.009646  0.012589  0.013520  0.014366  0.016580   \n",
       "1387   0.015330  0.021515  0.010699  0.010022  0.012199  0.015889  0.033636   \n",
       "2154   0.014754  0.023908  0.010214  0.011437  0.011413  0.018015  0.026256   \n",
       "9440   0.016656  0.024720  0.010174  0.010002  0.012268  0.023419  0.020721   \n",
       "5716   0.013941  0.023643  0.010887  0.012681  0.011798  0.017914  0.020286   \n",
       "6757   0.012117  0.021601  0.010284  0.010365  0.011350  0.022016  0.021536   \n",
       "2702   0.012868  0.024328  0.011339  0.011027  0.010087  0.022419  0.018197   \n",
       "8474   0.017433  0.021125  0.011100  0.009080  0.011393  0.017108  0.022606   \n",
       "277    0.012393  0.020357  0.009104  0.011193  0.011905  0.014898  0.021025   \n",
       "9823   0.024173  0.024640  0.010326  0.009844  0.011068  0.019408  0.020971   \n",
       "8360   0.015226  0.026990  0.010269  0.012307  0.010754  0.020592  0.020733   \n",
       "1373   0.014756  0.022540  0.010042  0.011908  0.011162  0.023988  0.034069   \n",
       "6526   0.014501  0.023787  0.012164  0.010110  0.012126  0.017494  0.020948   \n",
       "7602   0.014503  0.024989  0.010519  0.010072  0.011190  0.018832  0.021499   \n",
       "9751   0.028813  0.036684  0.009334  0.010375  0.011170  0.017061  0.022616   \n",
       "3488   0.014628  0.023193  0.010533  0.009382  0.010060  0.019015  0.018879   \n",
       "11192  0.016631  0.027675  0.011561  0.010680  0.011522  0.016678  0.032700   \n",
       "5369   0.014728  0.022627  0.009668  0.010253  0.010993  0.017040  0.020095   \n",
       "3660   0.014158  0.022142  0.010270  0.011685  0.011935  0.016370  0.023830   \n",
       "6456   0.017124  0.020624  0.009629  0.009362  0.011682  0.018393  0.030398   \n",
       "4339   0.013231  0.025704  0.010459  0.010769  0.010596  0.017079  0.020049   \n",
       "\n",
       "       Translation  \n",
       "12648     0.010894  \n",
       "7431      0.008876  \n",
       "7707      0.009500  \n",
       "3028      0.008120  \n",
       "3130      0.009998  \n",
       "8544      0.008505  \n",
       "10118     0.009544  \n",
       "9102      0.008671  \n",
       "5040      0.010745  \n",
       "296       0.008916  \n",
       "2087      0.009025  \n",
       "7948      0.008834  \n",
       "499       0.008114  \n",
       "5260      0.009706  \n",
       "7767      0.009445  \n",
       "2272      0.009603  \n",
       "11322     0.008955  \n",
       "8413      0.009182  \n",
       "3567      0.010751  \n",
       "4657      0.009110  \n",
       "2799      0.008808  \n",
       "11304     0.009211  \n",
       "10852     0.009779  \n",
       "1236      0.013801  \n",
       "6948      0.008899  \n",
       "9418      0.009025  \n",
       "7133      0.008768  \n",
       "11219     0.009237  \n",
       "8763      0.009516  \n",
       "343       0.009516  \n",
       "...            ...  \n",
       "6756      0.008841  \n",
       "5611      0.010762  \n",
       "7917      0.009463  \n",
       "1594      0.009177  \n",
       "3641      0.008634  \n",
       "11140     0.012961  \n",
       "9867      0.008676  \n",
       "9260      0.009576  \n",
       "9194      0.009740  \n",
       "12143     0.008671  \n",
       "1387      0.009632  \n",
       "2154      0.009872  \n",
       "9440      0.009064  \n",
       "5716      0.009907  \n",
       "6757      0.009826  \n",
       "2702      0.008916  \n",
       "8474      0.009560  \n",
       "277       0.009070  \n",
       "9823      0.009357  \n",
       "8360      0.008891  \n",
       "1373      0.011128  \n",
       "6526      0.009401  \n",
       "7602      0.009827  \n",
       "9751      0.009767  \n",
       "3488      0.009571  \n",
       "11192     0.010524  \n",
       "5369      0.008647  \n",
       "3660      0.009777  \n",
       "6456      0.010125  \n",
       "4339      0.008439  \n",
       "\n",
       "[2584 rows x 98 columns]"
      ]
     },
     "execution_count": 62,
     "metadata": {},
     "output_type": "execute_result"
    }
   ],
   "source": [
    "submission"
   ]
  },
  {
   "cell_type": "code",
   "execution_count": 63,
   "metadata": {},
   "outputs": [
    {
     "name": "stderr",
     "output_type": "stream",
     "text": [
      "100%|██████████████████████████████████████████████████████████████████████████████████| 97/97 [00:15<00:00,  6.24it/s]\n"
     ]
    }
   ],
   "source": [
    "gt_labels = dict()\n",
    "for cla in tqdm(class_names2):\n",
    "    clist = list()\n",
    "    for idx, row in test.iterrows():\n",
    "        if row['tags2'].find(cla) == -1:\n",
    "            clist.append(0)\n",
    "        else:\n",
    "            clist.append(1)\n",
    "    gt_labels[cla] = clist"
   ]
  },
  {
   "cell_type": "code",
   "execution_count": 64,
   "metadata": {},
   "outputs": [
    {
     "name": "stderr",
     "output_type": "stream",
     "text": [
      "100%|█████████████████████████████████████████████████████████████████████████████████| 97/97 [00:00<00:00, 372.64it/s]\n"
     ]
    },
    {
     "data": {
      "text/plain": [
       "0.5550490386566358"
      ]
     },
     "execution_count": 64,
     "metadata": {},
     "output_type": "execute_result"
    }
   ],
   "source": [
    "mAP = list()\n",
    "for cla in tqdm(class_names2):\n",
    "    ap = sm.average_precision_score(gt_labels[cla],submission[cla])\n",
    "    mAP.append(ap)\n",
    "np.mean(mAP)"
   ]
  },
  {
   "cell_type": "code",
   "execution_count": null,
   "metadata": {},
   "outputs": [],
   "source": [
    "\n",
    "# MAP\n",
    "# 0.501658837537489  -- 大于50 的 178个tag \n",
    "# 0.5550490386566358 -- 大于100 的 97个tag"
   ]
  }
 ],
 "metadata": {
  "kernelspec": {
   "display_name": "Python 3",
   "language": "python",
   "name": "python3"
  },
  "language_info": {
   "codemirror_mode": {
    "name": "ipython",
    "version": 3
   },
   "file_extension": ".py",
   "mimetype": "text/x-python",
   "name": "python",
   "nbconvert_exporter": "python",
   "pygments_lexer": "ipython3",
   "version": "3.6.4"
  }
 },
 "nbformat": 4,
 "nbformat_minor": 2
}
